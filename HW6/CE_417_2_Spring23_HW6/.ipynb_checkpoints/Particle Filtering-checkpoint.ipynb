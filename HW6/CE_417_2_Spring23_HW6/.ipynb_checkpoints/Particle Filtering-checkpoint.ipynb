{
 "cells": [
  {
   "cell_type": "markdown",
   "metadata": {},
   "source": [
    "<div align=center>\n",
    "\t\t\n",
    "<p></p>\n",
    "<p></p>\n",
    "<font size=5>\n",
    "In the Name of God\n",
    "<font/>\n",
    "<p></p>\n",
    " <br/>\n",
    "    <br/>\n",
    "<font color=#FF7500>\n",
    "Sharif University of Technology - Department of Computer Engineering\n",
    "</font>\n",
    "<p></p>\n",
    "<font color=blue>\n",
    "Artificial Intelligence - Mr. Samiei\n",
    "</font>\n",
    "<br/>\n",
    "<br/>\n",
    "Spring 2023\n",
    "\n",
    "<div/>\n",
    "\n",
    "<hr/>\n",
    "\t\t<div align=center>\n",
    "\t\t    <font color=red size=6>\n",
    "\t\t\t    <br />\n",
    "Practical Assignment(Particle Filtering)\n",
    "\t\t\t</font>\n",
    "    <br/>\n",
    "<font size=4>\n",
    "\t\t\t<br/><br/>\n",
    "Deadline:  Ordibehesht 29th - 23:59\n",
    "                <br/><b>\n",
    "              Cheating is Strongly Prohibited\n",
    "                </b><br/><br/>\n",
    "                <font color=red>\n",
    "Please run all the cells.\n",
    "     </font>\n",
    "</font>\n",
    "                <br/>\n",
    "    </div>"
   ]
  },
  {
   "cell_type": "markdown",
   "metadata": {},
   "source": [
    "# Personal Info\n",
    "Student number = 99105431\n",
    "Name = Amirmahdi\n",
    "Last_Name = Daraie"
   ]
  },
  {
   "cell_type": "markdown",
   "metadata": {},
   "source": [
    "## Libraries"
   ]
  },
  {
   "cell_type": "code",
   "execution_count": 3,
   "metadata": {},
   "outputs": [
    {
     "name": "stdout",
     "output_type": "stream",
     "text": [
      "Defaulting to user installation because normal site-packages is not writeable\n",
      "Requirement already satisfied: numpy in /usr/lib/python3/dist-packages (1.21.5)\n",
      "Defaulting to user installation because normal site-packages is not writeable\n",
      "Requirement already satisfied: matplotlib in /usr/lib/python3/dist-packages (3.5.1)\n"
     ]
    }
   ],
   "source": [
    "! pip install numpy\n",
    "! pip install matplotlib"
   ]
  },
  {
   "cell_type": "markdown",
   "metadata": {},
   "source": [
    "# Particle Filter (50 Points)"
   ]
  },
  {
   "cell_type": "markdown",
   "metadata": {},
   "source": [
    "<font size=4>\n",
    "Author: Erfan Sadraiye\n",
    "\t\t\t<br/>\n",
    "                <font color=red>\n",
    "Please run all the cells.\n",
    "     </font>\n",
    "</font>\n",
    "                <br/>\n",
    "    </div>"
   ]
  },
  {
   "cell_type": "markdown",
   "metadata": {},
   "source": [
    "This notebook demonstrates the use of a particle filter to estimate the location of an object moving on a 2D map using a noisy sensor."
   ]
  },
  {
   "cell_type": "code",
   "execution_count": 4,
   "metadata": {},
   "outputs": [],
   "source": [
    "import numpy as np\n",
    "import matplotlib.pyplot as plt"
   ]
  },
  {
   "cell_type": "markdown",
   "metadata": {},
   "source": [
    "# ParticleFilter Class\n",
    "\n",
    "The ParticleFilter class implements a particle filter for the given problem. It contains the following methods:\n"
   ]
  },
  {
   "cell_type": "code",
   "execution_count": 16,
   "metadata": {},
   "outputs": [],
   "source": [
    "class ParticleFilter:\n",
    "\n",
    "    def __init__(self, num_particles, map_min, map_max, std):\n",
    "        \"\"\"\n",
    "        :param num_particles: Number of particles to use in the filter.\n",
    "        :param map_min: Lower bounds of the 2D map.\n",
    "        :param map_max:  Upper bounds of the 2D map.\n",
    "        :param std:  Standard deviation of the sensor noise.\n",
    "        \"\"\"\n",
    "        self.num_particles = num_particles\n",
    "        self.map_min = map_min\n",
    "        self.map_max = map_max\n",
    "        self.std = std\n",
    "        self.particles = None\n",
    "        self.weights = None\n",
    "        self.initialize_particles()\n",
    "\n",
    "    def initialize_particles(self):\n",
    "        self.particles = np.random.uniform(low=self.map_min, high=self.map_max, size=(self.num_particles, 2))\n",
    "        self.weights = np.ones(self.num_particles) / self.num_particles\n",
    "\n",
    "    def predict_particles(self):\n",
    "        noise = np.random.normal(loc=0, scale=self.std, size=(self.num_particles, 2))\n",
    "        self.particles += noise\n",
    "\n",
    "    def update_weights(self, z):\n",
    "        distances = np.linalg.norm(self.particles - z, axis=1)\n",
    "        self.weights = np.exp(-0.5 * (distances / self.std) ** 2)\n",
    "        self.weights /= np.sum(self.weights)\n",
    "\n",
    "    def resample_particles(self):\n",
    "        indices = np.random.choice(np.arange(self.num_particles), size=self.num_particles, replace=True, p=self.weights)\n",
    "        self.particles = self.particles[indices].copy()\n",
    "        self.weights = np.ones(self.num_particles) / self.num_particles\n",
    "\n",
    "    def run(self, measurements):\n",
    "        for z in measurements:\n",
    "            self.predict_particles()\n",
    "            self.update_weights(z)\n",
    "            self.resample_particles()\n",
    "            self.plot_particles(z)\n",
    "\n",
    "    def plot_particles(self, z):\n",
    "        plt.scatter(self.particles[:, 0], self.particles[:, 1], color='b', alpha=0.1)\n",
    "        plt.scatter(z[0], z[1], color='r')\n",
    "        plt.xlim(self.map_min[0], self.map_max[0])\n",
    "        plt.ylim(self.map_min[1], self.map_max[1])\n",
    "        plt.show()"
   ]
  },
  {
   "cell_type": "code",
   "execution_count": 18,
   "metadata": {},
   "outputs": [
    {
     "data": {
      "image/png": "[encoded data removed]",
      "text/plain": [
       "<Figure size 432x288 with 1 Axes>"
      ]
     },
     "metadata": {
      "needs_background": "light"
     },
     "output_type": "display_data"
    },
    {
     "data": {
      "image/png": "[encoded data removed]",
      "text/plain": [
       "<Figure size 432x288 with 1 Axes>"
      ]
     },
     "metadata": {
      "needs_background": "light"
     },
     "output_type": "display_data"
    },
    {
     "data": {
      "image/png": "[encoded data removed]",
      "text/plain": [
       "<Figure size 432x288 with 1 Axes>"
      ]
     },
     "metadata": {
      "needs_background": "light"
     },
     "output_type": "display_data"
    },
    {
     "data": {
      "image/png": "[encoded data removed]",
      "text/plain": [
       "<Figure size 432x288 with 1 Axes>"
      ]
     },
     "metadata": {
      "needs_background": "light"
     },
     "output_type": "display_data"
    },
    {
     "data": {
      "image/png": "[encoded data removed]",
      "text/plain": [
       "<Figure size 432x288 with 1 Axes>"
      ]
     },
     "metadata": {
      "needs_background": "light"
     },
     "output_type": "display_data"
    },
    {
     "data": {
      "image/png": "[encoded data removed]",
      "text/plain": [
       "<Figure size 432x288 with 1 Axes>"
      ]
     },
     "metadata": {
      "needs_background": "light"
     },
     "output_type": "display_data"
    },
    {
     "data": {
      "image/png": "[encoded data removed]",
      "text/plain": [
       "<Figure size 432x288 with 1 Axes>"
      ]
     },
     "metadata": {
      "needs_background": "light"
     },
     "output_type": "display_data"
    },
    {
     "data": {
      "image/png": "[encoded data removed]",
      "text/plain": [
       "<Figure size 432x288 with 1 Axes>"
      ]
     },
     "metadata": {
      "needs_background": "light"
     },
     "output_type": "display_data"
    }
   ],
   "source": [
    "num_particles = 1000\n",
    "map_min = [0, 0]\n",
    "map_max = [100, 100]\n",
    "std = 2.0\n",
    "number_of_moves = 8\n",
    "start_location = np.random.normal((map_max[0] - map_min[0]) / 2, 2.0, size=(1, 2))\n",
    "measurements = np.empty((number_of_moves, 2))\n",
    "measurements[0, :] = start_location\n",
    "for i in range(1, number_of_moves):\n",
    "    measurements[i, :] = measurements[i - 1, :] + np.random.uniform(-5, 5, size=(1, 2))\n",
    "    measurements[i, :] = np.maximum(measurements[i, :], map_min)\n",
    "    measurements[i, :] = np.minimum(measurements[i, :], map_max)\n",
    "measurements += np.random.normal(0, 2.0, size=measurements.shape)\n",
    "particle_filter = ParticleFilter(num_particles, map_min, map_max, std)\n",
    "particle_filter.run(measurements)"
   ]
  },
  {
   "cell_type": "markdown",
   "metadata": {},
   "source": [
    "This generates a sequence of 8 sensor measurements and initializes the particle filter with 1000 particles. The run method of the ParticleFilter object is then called with the sequence of measurements to run the particle filter and display the particle locations at each step."
   ]
  }
 ],
 "metadata": {
  "kernelspec": {
   "display_name": "Python 3 (ipykernel)",
   "language": "python",
   "name": "python3"
  },
  "language_info": {
   "codemirror_mode": {
    "name": "ipython",
    "version": 3
   },
   "file_extension": ".py",
   "mimetype": "text/x-python",
   "name": "python",
   "nbconvert_exporter": "python",
   "pygments_lexer": "ipython3",
   "version": "3.10.6"
  },
  "vscode": {
   "interpreter": {
    "hash": "aee8b7b246df8f9039afb4144a1f6fd8d2ca17a180786b69acc140d282b71a49"
   }
  }
 },
 "nbformat": 4,
 "nbformat_minor": 4
}
