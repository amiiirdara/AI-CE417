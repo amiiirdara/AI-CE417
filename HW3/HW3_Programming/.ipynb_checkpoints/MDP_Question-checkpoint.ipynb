{
 "cells": [
  {
   "cell_type": "markdown",
   "metadata": {},
   "source": [
    "# Markov Decision Process"
   ]
  },
  {
   "cell_type": "markdown",
   "metadata": {},
   "source": [
    "## Section 1: Introduction\n",
    "\n",
    "In this section, we will introduce the concepts of MDP, Q-values, and V-values. These concepts are fundamental to the field of AI and machine learning, as they are used to model **decision-making problems** in various domains such as \"robotics\", \"finance\", and \"healthcare\".\n",
    "\n",
    "MDP stands for Markov Decision Process. It is a mathematical framework for modeling decision-making problems in which the outcomes are partly random and partly under the control of a decision-maker. MDPs are defined by a set of states, a set of actions, a reward function, and a transition function. The goal is to find a policy that maximizes the expected cumulative reward over time.\n",
    "\n",
    "Q-values and V-values are two important concepts in the context of MDPs. A Q-value represents the expected cumulative reward of taking a particular action in a particular state and following a specific policy thereafter. A V-value represents the expected cumulative reward of being in a particular state and following a specific policy thereafter. These values are used to evaluate and improve the policy of an agent in an MDP."
   ]
  },
  {
   "cell_type": "markdown",
   "metadata": {},
   "source": [
    "## Section 2: The Basics of MDPs\n",
    "\n",
    "In this section, we will explain the basic components of an MDP.\n",
    "\n",
    "An MDP is defined by \"a set of states\", \"a set of actions\", \"a reward function\", and \"a transition function\". The state space is the set of all possible states that the agent can be in. The action space is the set of all possible actions that the agent can take. The reward function defines the reward the agent receives for each action taken in a particular state. The transition function defines the probability of moving from one state to another state after taking a particular action.\n",
    "\n",
    "To illustrate these concepts, let's consider an example of a **robot that needs to navigate through a maze**. The robot can be in one of several states, such as at the start of the maze, at a junction in the maze, or at the end of the maze. This robot takes an action. With Probability of **0.8** It goes in that desired direction but with probability of **0.2** It goes in the perpendicular direction (0.1, 0.1 for each)!\n",
    "\n",
    "In an MDP, the agent interacts with the environment by selecting actions based on its current state and the expected future reward. The goal of the agent is to find a policy that maximizes the expected cumulative reward over time."
   ]
  },
  {
   "cell_type": "markdown",
   "metadata": {},
   "source": [
    "**QUESTION**\n",
    "\n",
    "1. What are the state space, action space, reward function, and transition function of the robot in the maze example? Explain why you think each of these components is important for the robot to navigate through the maze.\n",
    "\n",
    "2. Is our environment stochastic or deterministic? Why?!"
   ]
  },
  {
   "cell_type": "markdown",
   "metadata": {},
   "source": [
    "**Define The MDP**:\n",
    "\n",
    "Based on your choice of rewards and transitions and the state space, define the MDP for the robot in the maze example. You can complete the following code to define the MDP:"
   ]
  },
  {
   "cell_type": "code",
   "execution_count": 71,
   "metadata": {},
   "outputs": [
    {
     "name": "stdout",
     "output_type": "stream",
     "text": [
      "Our Maze is:\n",
      " [[2 0 0 0 0]\n",
      " [0 1 1 0 1]\n",
      " [0 0 0 0 0]\n",
      " [0 1 1 1 3]]\n"
     ]
    }
   ],
   "source": [
    "import numpy as np\n",
    "\n",
    "maze = np.array([[2, 0, 0, 0, 0],\n",
    "                 [0, 1, 1, 0, 1],\n",
    "                 [0, 0, 0, 0, 0],\n",
    "                 [0, 1, 1, 1, 3]])\n",
    "\n",
    "print(\"Our Maze is:\\n\", maze)\n",
    "\n",
    "up = '↑'\n",
    "left = '←'\n",
    "right = '→'\n",
    "down = '↓'\n",
    "\n",
    "movement_actions = [up, down, left, right]\n",
    "num_actions = len(movement_actions)\n",
    "\n",
    "rewards = np.zeros_like(maze, dtype=float)\n",
    "rewards[maze == 3] = 1\n",
    "rewards[maze == 0] = -1\n",
    "rewards[maze == 1] = -0.1\n",
    "\n",
    "transition_probs = np.zeros((maze.size, num_actions, maze.size), dtype=float)\n",
    "movement_vectors = [(-1, 0), (1, 0), (0, -1), (0, 1)]\n",
    "\n",
    "state_index = 0\n",
    "while state_index < maze.size:\n",
    "    action_index = 0\n",
    "    while action_index < num_actions:\n",
    "        for intended_next_state in [tuple(np.array(state_index) + np.array(movement_vectors[action_index]))]:\n",
    "            intended_next_state = tuple(np.maximum(np.minimum(intended_next_state, [maze.shape[0] - 1, maze.shape[1] - 1]), [0, 0]))\n",
    "            transition_probs[state_index, action_index, np.ravel_multi_index(intended_next_state, maze.shape)] += 0.8\n",
    "\n",
    "        for left_state in [tuple(np.array(state_index) + np.array(movement_vectors[(action_index - 1) % num_actions]))]:\n",
    "            left_state = tuple(np.maximum(np.minimum(left_state, [maze.shape[0] - 1, maze.shape[1] - 1]), [0, 0]))\n",
    "            transition_probs[state_index, action_index, np.ravel_multi_index(left_state, maze.shape)] += 0.1\n",
    "\n",
    "        for right_state in [tuple(np.array(state_index) + np.array(movement_vectors[(action_index + 1) % num_actions]))]:\n",
    "            right_state = tuple(np.maximum(np.minimum(right_state, [maze.shape[0] - 1, maze.shape[1] - 1]), [0, 0]))\n",
    "            transition_probs[state_index, action_index, np.ravel_multi_index(right_state, maze.shape)] += 0.1\n",
    "\n",
    "        action_index += 1\n",
    "    state_index += 1\n",
    "\n",
    "discount = 0.9\n",
    "values = np.zeros_like(maze, dtype=float)\n",
    "q_values = np.zeros((maze.size, num_actions), dtype=float)"
   ]
  },
  {
   "cell_type": "markdown",
   "metadata": {},
   "source": [
    "## Section 3: Computing V-values\n",
    "\n",
    "In this section, we will explain how to compute V-values for an MDP using the Bellman equation.\n",
    "\n",
    "The Bellman equation is a recursive equation that expresses the value of a state in terms of the values of its successor states. It is defined as:\n",
    "\n",
    "$$V(s) = R(s) + \\gamma * \\max_a (\\sum_{s'} P(s, a, s') * V(s'))$$\n",
    "\n",
    "where V(s) is the value of state s, R(s) is the reward for being in state s, γ is the discount factor that determines the importance of future rewards, P(s, a, s') is the probability of moving from state s to state s' after taking action a, and max_a is the maximum over all possible actions a.\n",
    "\n",
    "To compute the V-values for an MDP, we start with an initial estimate of the V-values and update them iteratively using the Bellman equation until they converge to the true values. The update rule is:\n",
    "\n",
    "$$V(s) \\leftarrow R(s) + \\gamma * \\max_a (\\sum_{s'} P(s, a, s') * V(s'))$$\n",
    "\n",
    "We can use dynamic programming algorithms such as value iteration or policy iteration to compute the V-values.\n",
    "\n",
    "We can use the Bellman equation to compute the V-values for each state in the maze. The V-values represent the expected cumulative reward that the robot can obtain if it starts from that state and follows an optimal policy thereafter. Complete the code below:\n",
    "\n",
    "(**Note:** your final result can be slightly different from the result printed below and it's okay!)"
   ]
  },
  {
   "cell_type": "code",
   "execution_count": 72,
   "metadata": {},
   "outputs": [
    {
     "name": "stdout",
     "output_type": "stream",
     "text": [
      "[[7.80461243 8.59314098 8.80973439 9.68973439 9.99973439]\n",
      " [9.99973439 9.99973439 9.99973439 9.99973439 9.99973439]\n",
      " [9.99973439 9.99973439 9.99973439 9.99973439 9.99973439]\n",
      " [9.99973439 9.99973439 9.99973439 9.99973439 9.99973439]]\n"
     ]
    }
   ],
   "source": [
    "values = np.zeros((maze.shape[0], maze.shape[1]))\n",
    "flatten_values = values.flatten()\n",
    "\n",
    "iteration = 0\n",
    "while iteration < 100:\n",
    "    state_index = 0\n",
    "    while state_index < len(states):\n",
    "        q_values = np.zeros(num_actions)\n",
    "        action_index = 0\n",
    "        while action_index < num_actions:\n",
    "            temp = 0\n",
    "            next_state_index = 0\n",
    "            while next_state_index < len(states):\n",
    "                temp += transition_probs[state_index, action_index, next_state_index] * (rewards.flatten()[next_state_index] + discount * values.flatten()[next_state_index])\n",
    "                next_state_index += 1\n",
    "            q_values[action_index] = temp\n",
    "            action_index += 1\n",
    "        max_q_value = np.max(q_values)\n",
    "        flatten_values[state_index] = max_q_value\n",
    "        state_index += 1\n",
    "    values = flatten_values.reshape(maze.shape)\n",
    "    iteration += 1\n",
    "\n",
    "print(values)"
   ]
  },
  {
   "cell_type": "markdown",
   "metadata": {},
   "source": [
    "## Section 4: Computing Q-values\n",
    "\n",
    "In this section, we will explain how to compute Q-values for an MDP using the Bellman equation.\n",
    "\n",
    "The Q-values represent the expected cumulative reward that the robot can obtain if it starts from a particular state and takes a particular action, and then follows an optimal policy thereafter. The Q-values can be computed using the Bellman equation as follows:\n",
    "\n",
    "$$Q(s, a) = R(s, a) + \\gamma * \\sum_{s'} (P(s, a, s') * \\max_{a'} (Q(s', a')))$$\n",
    "\n",
    "where Q(s, a) is the Q-value of state-action pair (s, a), R(s, a) is the reward for taking action a in state s, γ is the discount factor that determines the importance of future rewards, P(s, a, s') is the probability of moving from state s to state s' after taking action a, max_a' is the maximum over all possible actions a' in state s', and sum_s' is the sum over all possible successor states s' of state s.\n",
    "\n",
    "To compute the Q-values for an MDP, we start with an initial estimate of the Q-values and update them iteratively using the Bellman equation until they converge to the true values. The update rule is:\n",
    "\n",
    "$$Q(s, a) \\leftarrow R(s, a) + \\gamma * \\sum_{s'} (P(s, a, s') * \\max_{a'} (Q(s', a')))$$\n",
    "\n",
    "We can use dynamic programming algorithms such as Q-learning or SARSA to compute the Q-values.\n",
    "\n",
    "\n",
    "We can use the Q-learning algorithm to compute the Q-values for each state-action pair in the maze. The Q-values represent the expected cumulative reward that the robot can obtain if it starts from a particular state and takes a particular action, and then follows an optimal policy thereafter. Complete the code below:\n",
    "\n",
    "(**Note:** your final result can be slightly different from the result printed below and it's okay!)"
   ]
  },
  {
   "cell_type": "code",
   "execution_count": 73,
   "metadata": {},
   "outputs": [
    {
     "name": "stdout",
     "output_type": "stream",
     "text": [
      "[[7.09267974 7.804639   7.09267974 6.79189174]\n",
      " [7.07701369 7.87316754 8.08976095 8.59316754]\n",
      " [8.80976095 8.80976095 8.08976095 8.08976095]\n",
      " [8.28976095 8.80976095 9.00976095 9.68976095]\n",
      " [9.99976095 9.88976095 9.11976095 9.88976095]\n",
      " [9.99976095 9.99976095 9.99976095 9.99976095]\n",
      " [9.99976095 9.99976095 9.99976095 9.99976095]\n",
      " [9.99976095 9.99976095 9.99976095 9.99976095]\n",
      " [9.99976095 9.99976095 9.99976095 9.99976095]\n",
      " [9.99976095 9.99976095 9.99976095 9.99976095]\n",
      " [9.99976095 9.99976095 9.99976095 9.99976095]\n",
      " [9.99976095 9.99976095 9.99976095 9.99976095]\n",
      " [9.99976095 9.99976095 9.99976095 9.99976095]\n",
      " [9.99976095 9.99976095 9.99976095 9.99976095]\n",
      " [9.99976095 9.99976095 9.99976095 9.99976095]\n",
      " [9.99976095 9.99976095 9.99976095 9.99976095]\n",
      " [9.99976095 9.99976095 9.99976095 9.99976095]\n",
      " [9.99976095 9.99976095 9.99976095 9.99976095]\n",
      " [9.99976095 9.99976095 9.99976095 9.99976095]\n",
      " [9.99976095 9.99976095 9.99976095 9.99976095]]\n"
     ]
    }
   ],
   "source": [
    "q_values = np.zeros((maze.size, num_actions))\n",
    "iterator = 0\n",
    "while iterator < 10:\n",
    "    state = 0\n",
    "    while state < len(states):\n",
    "        action = 0\n",
    "        while action < num_actions:\n",
    "            temp_val = 0\n",
    "            state_prime = 0\n",
    "            while state_prime < len(states):\n",
    "                temp_val += transition_probs[state, action, state_prime] * \\\n",
    "                            (rewards.flatten()[state_prime] + discount * values.flatten()[state_prime])\n",
    "                state_prime += 1\n",
    "            q_values[state, action] = temp_val\n",
    "            action += 1\n",
    "        state += 1\n",
    "    iterator += 1\n",
    "print(q_values)"
   ]
  },
  {
   "cell_type": "markdown",
   "metadata": {},
   "source": [
    "## Section 5: Visualizing the Optimal Policy\n",
    "\n",
    "Now that we have computed the Q-values, we can use them to find the optimal policy, which is the sequence of actions that the robot should take in each state to maximize its expected reward. We can visualize the optimal policy as arrows in a grid, where each arrow corresponds to the action with the highest Q-value in the corresponding state. Complete the code below:\n",
    "\n",
    "(**Note:** your final result can be slightly different from the result printed below and it's okay!)"
   ]
  },
  {
   "cell_type": "code",
   "execution_count": 74,
   "metadata": {},
   "outputs": [
    {
     "name": "stdout",
     "output_type": "stream",
     "text": [
      "['↑', '↓', '←', '→']\n",
      "[[1 3 0 3 0]\n",
      " [0 0 0 0 0]\n",
      " [0 0 0 0 0]\n",
      " [0 0 0 0 0]]\n"
     ]
    }
   ],
   "source": [
    "policy = np.zeros(maze.shape)\n",
    "policy_flatten = np.argmax(q_values, axis=1)\n",
    "policy = policy_flatten.reshape(maze.shape)\n",
    "print(movement_actions)\n",
    "print(policy)"
   ]
  },
  {
   "cell_type": "code",
   "execution_count": 85,
   "metadata": {},
   "outputs": [
    {
     "data": {
      "image/png": "[encoded data removed]",
      "text/plain": [
       "<Figure size 432x288 with 1 Axes>"
      ]
     },
     "metadata": {},
     "output_type": "display_data"
    },
    {
     "data": {
      "image/png": "[encoded data removed]",
      "text/plain": [
       "<Figure size 432x288 with 1 Axes>"
      ]
     },
     "metadata": {},
     "output_type": "display_data"
    }
   ],
   "source": [
    "policy_arrows = [movement_actions[p] for p in policy_flatten]\n",
    "policy_grid = np.array(policy_arrows).reshape(maze.shape)\n",
    "\n",
    "plt.figure(figsize=(6, 4))\n",
    "plt.imshow(np.zeros(maze.shape), cmap='Blues', extent=[0, maze.shape[1], 0, maze.shape[0]])\n",
    "for i in range(maze.shape[0]):\n",
    "    for j in range(maze.shape[1]):\n",
    "        if maze[i, j] == 2:\n",
    "            plt.text(j + 0.5, i + 0.5, 'S',\n",
    "                     horizontalalignment='center',\n",
    "                     verticalalignment='center', fontsize=18, color='red')\n",
    "        elif maze[i, j] == 3:\n",
    "            plt.text(j + 0.5, i + 0.5, 'G',\n",
    "                     horizontalalignment='center',\n",
    "                     verticalalignment='center', fontsize=18, color='green')\n",
    "        elif maze[i, j] == 1:\n",
    "            plt.text(j + 0.5, i + 0.5, 'X',\n",
    "                     horizontalalignment='center',\n",
    "                     verticalalignment='center', fontsize=18, color='black')\n",
    "        else:\n",
    "            plt.text(j + 0.5, i + 0.5, 'P',\n",
    "                     horizontalalignment='center',\n",
    "                     verticalalignment='center', fontsize=18, color='black')\n",
    "\n",
    "plt.gca().invert_yaxis()\n",
    "plt.xticks([])\n",
    "plt.yticks([])\n",
    "plt.show()\n",
    "\n",
    "plt.figure(figsize=(6, 4))\n",
    "plt.imshow(np.zeros(maze.shape), cmap='Blues', extent=[0, maze.shape[1], 0, maze.shape[0]])\n",
    "for i in range(maze.shape[0]):\n",
    "    for j in range(maze.shape[1]):\n",
    "        if policy_grid[i, j] == up:\n",
    "            plt.text(j + 0.5, i + 0.5, policy_grid[i, j],\n",
    "                     horizontalalignment='center',\n",
    "                     verticalalignment='center', fontsize=18, color='black')\n",
    "        if policy_grid[i, j] == down:\n",
    "            plt.text(j + 0.5, i + 0.5, policy_grid[i, j],\n",
    "                     horizontalalignment='center',\n",
    "                     verticalalignment='center', fontsize=18, color='blue')\n",
    "        if policy_grid[i, j] == left:\n",
    "            plt.text(j + 0.5, i + 0.5, policy_grid[i, j],\n",
    "                     horizontalalignment='center',\n",
    "                     verticalalignment='center', fontsize=18, color='orange')\n",
    "        if policy_grid[i, j] == right:\n",
    "            plt.text(j + 0.5, i + 0.5, policy_grid[i, j],\n",
    "                     horizontalalignment='center',\n",
    "                     verticalalignment='center', fontsize=18, color='purple')\n",
    "\n",
    "plt.gca().invert_yaxis()\n",
    "plt.xticks([])\n",
    "plt.yticks([])\n",
    "plt.show()"
   ]
  }
 ],
 "metadata": {
  "kernelspec": {
   "display_name": "Python 3 (ipykernel)",
   "language": "python",
   "name": "python3"
  },
  "language_info": {
   "codemirror_mode": {
    "name": "ipython",
    "version": 3
   },
   "file_extension": ".py",
   "mimetype": "text/x-python",
   "name": "python",
   "nbconvert_exporter": "python",
   "pygments_lexer": "ipython3",
   "version": "3.10.6"
  }
 },
 "nbformat": 4,
 "nbformat_minor": 2
}
