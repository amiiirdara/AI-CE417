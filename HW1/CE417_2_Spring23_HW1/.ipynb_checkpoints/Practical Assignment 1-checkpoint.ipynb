{
 "cells": [
  {
   "cell_type": "markdown",
   "id": "fd957f51",
   "metadata": {},
   "source": [
    "<div align=center>\n",
    "\t\t\n",
    "<p></p>\n",
    "<p></p>\n",
    "<font size=5>\n",
    "In the Name of God\n",
    "<font/>\n",
    "<p></p>\n",
    " <br/>\n",
    "    <br/>\n",
    "    <br/>\n",
    "<font color=#FF7500>\n",
    "Sharif University of Technology - Departmenet of Computer Engineering\n",
    "</font>\n",
    "<p></p>\n",
    "<font color=blue>\n",
    "Artifical Intelligence - Mr. Samiei\n",
    "</font>\n",
    "<br/>\n",
    "<br/>\n",
    "\n",
    "Spring 2023\n",
    "\n",
    "</div>\n",
    "\n",
    "<hr/>\n",
    "\t\t<div align=center>\n",
    "\t\t    <font color=red size=6>\n",
    "\t\t\t    <br />\n",
    "Practical Assignment 1 - \n",
    "            \t<br/>\n",
    "\t\t\t</font>\n",
    "    <br/>\n",
    "    <br/>\n",
    "<font size=4>\n",
    "\t\t\t<br/><br/>\n",
    "Deadline:  Esfand 5th - \n",
    "                <br/><b>\n",
    "                <br>\n",
    "              Cheating is Strongly Prohibited - \n",
    "                </b><br/><br/>\n",
    "                <font color=red>\n",
    "Please run all the cells.\n",
    "     </font>\n",
    "</font>\n",
    "                <br/>\n",
    "    </div>"
   ]
  },
  {
   "cell_type": "markdown",
   "id": "d099c662",
   "metadata": {},
   "source": [
    "# Question 1 (27+5 points)"
   ]
  },
  {
   "cell_type": "markdown",
   "id": "d92f36a9",
   "metadata": {},
   "source": [
    "## Imports"
   ]
  },
  {
   "cell_type": "markdown",
   "id": "f126aa72",
   "metadata": {},
   "source": [
    "Feel free to import any library you need."
   ]
  },
  {
   "cell_type": "code",
   "execution_count": 1,
   "id": "4afa2486",
   "metadata": {},
   "outputs": [],
   "source": [
    "import numpy as np"
   ]
  },
  {
   "cell_type": "markdown",
   "id": "f4c0c681",
   "metadata": {},
   "source": [
    "In this question, we are going to find the gold! The map_list contains a map of Mr. Samiei's personal garden from the surface to a depth of 16 meters. We know that there is a large piece of gold on this map but Mr. Samiei himself has absolutely no idea about what is going on beneath his garden yet. So we can't waste any time.\n",
    "\n",
    "We have a guess about the location of the gold but we can't take any risks. Hence we will find our way with the Heuristic Search (informed), and the Iterative Deepening Search (uninformed). But first, let's take a quick look at the map."
   ]
  },
  {
   "cell_type": "markdown",
   "id": "1d47e7d7",
   "metadata": {},
   "source": [
    "## Making our map"
   ]
  },
  {
   "cell_type": "markdown",
   "id": "572f87bf",
   "metadata": {},
   "source": [
    "This part is for loading the map and choosing the start point. The first row is the deepest layer and the last row is the surface. As we can see, there is only one entrance at the surface because the blocks with '#' are very hard and we can't pass them. You can transform this map into any other data structure you want and use it to solve the problem."
   ]
  },
  {
   "cell_type": "code",
   "execution_count": 2,
   "id": "90f6b1fd",
   "metadata": {
    "scrolled": true
   },
   "outputs": [
    {
     "name": "stdout",
     "output_type": "stream",
     "text": [
      "['#', '#', '#', '#', '#', '#', '#', '#', '#']\n",
      "['#', '$', '#', '$', '$', '$', '$', '$', '#']\n",
      "['#', '$', '$', '$', '$', '$', '#', '$', '#']\n",
      "['#', '$', '#', 'G', '#', '$', '#', '$', '#']\n",
      "['#', '$', '#', '$', '#', '#', '#', '$', '#']\n",
      "['#', '$', '#', '#', '#', '$', '#', '$', '#']\n",
      "['#', '$', '#', '$', '#', '$', '#', '$', '#']\n",
      "['#', '$', '#', '$', '$', '$', '#', '$', '#']\n",
      "['#', '$', '$', '$', '#', '$', '#', '$', '#']\n",
      "['#', '$', '#', '$', '#', '$', '#', '$', '#']\n",
      "['#', '$', '#', '$', '#', '$', '$', '$', '#']\n",
      "['#', '$', '#', '$', '#', '$', '#', '$', '#']\n",
      "['#', '$', '#', '$', '#', '$', '#', '$', '#']\n",
      "['#', '$', '#', '$', '#', '$', '#', '$', '#']\n",
      "['#', '$', '#', '$', '#', '$', '#', '$', '#']\n",
      "['#', '#', '#', '#', '#', '#', '#', 'E', '#']\n"
     ]
    }
   ],
   "source": [
    "map_list = []\n",
    "map_list.append(['#', '#', '#', '#', '#', '#', '#', '#', '#'])\n",
    "map_list.append(['#', '$', '#', '$', '$', '$', '$', '$', '#'])\n",
    "map_list.append(['#', '$', '$', '$', '$', '$', '#', '$', '#'])\n",
    "map_list.append(['#', '$', '#', 'G', '#', '$', '#', '$', '#'])\n",
    "map_list.append(['#', '$', '#', '$', '#', '#', '#', '$', '#'])\n",
    "map_list.append(['#', '$', '#', '#', '#', '$', '#', '$', '#'])\n",
    "map_list.append(['#', '$', '#', '$', '#', '$', '#', '$', '#'])\n",
    "map_list.append(['#', '$', '#', '$', '$', '$', '#', '$', '#'])\n",
    "map_list.append(['#', '$', '$', '$', '#', '$', '#', '$', '#'])\n",
    "map_list.append(['#', '$', '#', '$', '#', '$', '#', '$', '#'])\n",
    "map_list.append(['#', '$', '#', '$', '#', '$', '$', '$', '#'])\n",
    "map_list.append(['#', '$', '#', '$', '#', '$', '#', '$', '#'])\n",
    "map_list.append(['#', '$', '#', '$', '#', '$', '#', '$', '#'])\n",
    "map_list.append(['#', '$', '#', '$', '#', '$', '#', '$', '#'])\n",
    "map_list.append(['#', '$', '#', '$', '#', '$', '#', '$', '#'])\n",
    "map_list.append(['#', '#', '#', '#', '#', '#', '#', 'E', '#'])\n",
    "\n",
    "for floor in map_list:\n",
    "    print(floor)\n",
    "# '#' is a hard path and you can't pass\n",
    "# '$' is a soft path and you can dig it\n",
    "# 'G' is our goal\n",
    "# 'E' is the only entrance"
   ]
  },
  {
   "cell_type": "code",
   "execution_count": 3,
   "id": "c8cd4acb",
   "metadata": {},
   "outputs": [
    {
     "data": {
      "text/plain": [
       "'E'"
      ]
     },
     "execution_count": 3,
     "metadata": {},
     "output_type": "execute_result"
    }
   ],
   "source": [
    "# Start point of problem\n",
    "initial_point = (15, 7)\n",
    "map_list[15][7]"
   ]
  },
  {
   "cell_type": "markdown",
   "id": "48dd5407",
   "metadata": {},
   "source": [
    "We start with the first approach. In an uninformed search, we have to forget about our guess for the location of the gold and search until we find the 'G'."
   ]
  },
  {
   "cell_type": "markdown",
   "id": "a303a725",
   "metadata": {},
   "source": [
    "## Iterative Deepening Search (Uninformed) (+5 points)"
   ]
  },
  {
   "cell_type": "markdown",
   "id": "b3f50852",
   "metadata": {},
   "source": [
    "In this section, we have two functions for you and you have to complete the second one. You have to use the DLS function in the IDS function to find the shortest path length and we have already provided the expected output at the end of this section. Remember that you don't need to return the path, we only need the length and the total steps of this algorithm."
   ]
  },
  {
   "cell_type": "code",
   "execution_count": 4,
   "id": "eb5a562f",
   "metadata": {},
   "outputs": [],
   "source": [
    "def DLS(problem_map, start_point, max_depth):\n",
    "    if problem_map[start_point[0]][start_point[1]] == '#':\n",
    "        return (False, 0)\n",
    "    total_steps = 1\n",
    "    if problem_map[start_point[0]][start_point[1]] == 'G':\n",
    "        return (True, total_steps)\n",
    "    if max_depth <= 0:\n",
    "        return (False, total_steps)\n",
    "    if start_point[0] < 15:\n",
    "        result = DLS(problem_map, (start_point[0] + 1, start_point[1]), max_depth - 1)\n",
    "        total_steps += result[1]\n",
    "        if result[0]:\n",
    "            return (True, total_steps)\n",
    "    if start_point[0] > 0:\n",
    "        result = DLS(problem_map, (start_point[0] - 1, start_point[1]), max_depth -1 )\n",
    "        total_steps += result[1]\n",
    "        if result[0]:\n",
    "            return (True, total_steps)\n",
    "    if start_point[1] > 0:\n",
    "        result = DLS(problem_map, (start_point[0], start_point[1] - 1), max_depth - 1)\n",
    "        total_steps += result[1]\n",
    "        if result[0]:\n",
    "            return (True, total_steps)\n",
    "    if start_point[0] < 8:\n",
    "        result = DLS(problem_map, (start_point[0], start_point[1] - 1), max_depth - 1)\n",
    "        total_steps += result[1]\n",
    "        if result[0]:\n",
    "            return (True, total_steps)\n",
    "    return (False, total_steps)"
   ]
  },
  {
   "cell_type": "code",
   "execution_count": 5,
   "id": "602efdeb",
   "metadata": {},
   "outputs": [],
   "source": [
    "def IDS(problem_map, start_point, max_depth):\n",
    "    # (5 points)\n",
    "    # The output must be in this form: (True or False, the shortest path length, total steps until finding the gold)\n",
    "    total_steps = 0\n",
    "    \n",
    "    # Your code here\n",
    "    \n",
    "    return (False, 0, total_steps)"
   ]
  },
  {
   "cell_type": "code",
   "execution_count": 6,
   "id": "a324c6c4",
   "metadata": {},
   "outputs": [
    {
     "name": "stdout",
     "output_type": "stream",
     "text": [
      "The IDS algorithm found the shortest path of length 20 in 1168123 steps.\n"
     ]
    }
   ],
   "source": [
    "answer_IDS = IDS(map_list, initial_point, 50)\n",
    "if answer_IDS[0]:\n",
    "    print(f'The IDS algorithm found the shortest path of length {answer_IDS[1]} in {answer_IDS[2]} steps.')\n",
    "else:\n",
    "    print('No way!')"
   ]
  },
  {
   "cell_type": "markdown",
   "id": "656e52cb",
   "metadata": {},
   "source": [
    "Now we will find the shortest path length using Manhattan heuristic:"
   ]
  },
  {
   "cell_type": "markdown",
   "id": "e16802fe",
   "metadata": {},
   "source": [
    "## Heuristic Search (Informed) (27 points)"
   ]
  },
  {
   "cell_type": "markdown",
   "id": "4d83ad11",
   "metadata": {},
   "source": [
    "Like the previous section, we have to empty functions to complete and you can use the answer at the end of this section to check your outputs."
   ]
  },
  {
   "cell_type": "code",
   "execution_count": 7,
   "id": "6802661f",
   "metadata": {},
   "outputs": [
    {
     "data": {
      "text/plain": [
       "'G'"
      ]
     },
     "execution_count": 7,
     "metadata": {},
     "output_type": "execute_result"
    }
   ],
   "source": [
    "# Goal point of problem\n",
    "goal = (3, 3)\n",
    "map_list[3][3]"
   ]
  },
  {
   "cell_type": "code",
   "execution_count": 8,
   "id": "bba9411b",
   "metadata": {},
   "outputs": [],
   "source": [
    "# Manhattan Heuristic\n",
    "def h(current_point, goal_point):\n",
    "    # (2 points)\n",
    "    h = None\n",
    "    return h"
   ]
  },
  {
   "cell_type": "code",
   "execution_count": 9,
   "id": "6a3e34f7",
   "metadata": {},
   "outputs": [],
   "source": [
    "def Heuristic_search(problem_map, start_point, goal_point):\n",
    "    # (25 point)\n",
    "    # The output must be in this form: (True or False, the shortest path length, total steps until finding the gold)\n",
    "    total_steps = 0\n",
    "    shortest_path = 0\n",
    "    \n",
    "    # Your code here\n",
    "    \n",
    "    return (False, shortest_path, total_steps)"
   ]
  },
  {
   "cell_type": "code",
   "execution_count": 10,
   "id": "808c677d",
   "metadata": {},
   "outputs": [
    {
     "name": "stdout",
     "output_type": "stream",
     "text": [
      "The Heuristic algorithm found the shortest path of length 20 in 35 steps.\n"
     ]
    }
   ],
   "source": [
    "answer_HS = Heuristic_search(map_list, initial_point, goal)\n",
    "if answer_HS[0]:\n",
    "    print(f'The Heuristic algorithm found the shortest path of length {answer_HS[1]} in {answer_HS[2]} steps.')\n",
    "else:\n",
    "    print('No way!')"
   ]
  },
  {
   "cell_type": "markdown",
   "id": "8c001748",
   "metadata": {},
   "source": [
    "# Question 2 (19+23 points)"
   ]
  },
  {
   "cell_type": "markdown",
   "id": "e05b347f",
   "metadata": {},
   "source": [
    "## Imports"
   ]
  },
  {
   "cell_type": "markdown",
   "id": "8cc9cdbe",
   "metadata": {},
   "source": [
    "Feel free to import any library you need."
   ]
  },
  {
   "cell_type": "code",
   "execution_count": 11,
   "id": "04b868dc",
   "metadata": {},
   "outputs": [],
   "source": [
    "import numpy as np\n",
    "import matplotlib.pyplot as plt"
   ]
  },
  {
   "cell_type": "markdown",
   "id": "9c772f5d",
   "metadata": {},
   "source": [
    "In this question, we want to solve a scheduling problem for those students who have a lot of available courses to take and don't know how to fit them into their weekly plans! In fact, we need them to provide us with a list of courses with a rating for every course which indicates the tendency of taking that course. Then we use Genetic Algorithm and Simulated Annealing to arrange their weekly plans with the most desired courses from the given least without any conflicts."
   ]
  },
  {
   "cell_type": "markdown",
   "id": "f1279a02",
   "metadata": {},
   "source": [
    "## Test Data"
   ]
  },
  {
   "cell_type": "markdown",
   "id": "5ef757d8",
   "metadata": {},
   "source": [
    "In the cell below we have a code that generates a random acceptable course list to test your implemented code. According to the current parameters, we have 5 active days every week and every day has 6 free time slots. Also, we have three types of courses to define:\n",
    "- type 1: Sessions on days 1 and 3 of every week with one timeslot per day. For example, the second timeslot of days 1 and 3.\n",
    "- type 2: Sessions on days 2 and 4 of every week with one timeslot per day. For example, the third timeslot of days 1 and 3.\n",
    "- type 3: Sessions on any active day of every week with two consecutive timeslots. For example, the second and third timeslots of day 3."
   ]
  },
  {
   "cell_type": "code",
   "execution_count": 26,
   "id": "5c414803",
   "metadata": {},
   "outputs": [
    {
     "data": {
      "text/plain": [
       "[[[2, 4], [5], 1],\n",
       " [[2, 4], [4], 4],\n",
       " [[5], [4, 5], 3],\n",
       " [[2, 4], [1], 1],\n",
       " [[1, 3], [3], 5],\n",
       " [[2, 4], [1], 3],\n",
       " [[3], [1, 2], 4],\n",
       " [[2], [2, 3], 4],\n",
       " [[1, 3], [1], 5],\n",
       " [[1, 3], [2], 1],\n",
       " [[1, 3], [1], 2],\n",
       " [[1, 3], [1], 4],\n",
       " [[2, 4], [6], 3],\n",
       " [[1, 3], [2], 5],\n",
       " [[2, 4], [6], 5],\n",
       " [[4], [4, 5], 5],\n",
       " [[2], [4, 5], 4],\n",
       " [[1, 3], [2], 4],\n",
       " [[1, 3], [4], 4],\n",
       " [[2, 4], [1], 2]]"
      ]
     },
     "execution_count": 26,
     "metadata": {},
     "output_type": "execute_result"
    }
   ],
   "source": [
    "# Generating data\n",
    "num_courses = 20\n",
    "daily_timeslots = 6\n",
    "active_week_days = 5\n",
    "courses_rating_range = 5\n",
    "courses = []\n",
    "for i in range(num_courses):\n",
    "    course_type = np.random.randint(3)\n",
    "    if course_type == 0:\n",
    "        courses.append([[1, 3], [np.random.randint(daily_timeslots) + 1], np.random.randint(courses_rating_range) + 1])\n",
    "    elif course_type == 1:\n",
    "        courses.append([[2, 4], [np.random.randint(daily_timeslots) + 1], np.random.randint(courses_rating_range) + 1])\n",
    "    else:\n",
    "        time_slot = np.random.randint(daily_timeslots - 1) + 1\n",
    "        courses.append([[np.random.randint(active_week_days) + 1], [time_slot, time_slot + 1], np.random.randint(courses_rating_range) + 1])\n",
    "courses"
   ]
  },
  {
   "cell_type": "markdown",
   "id": "6d3dfb5f",
   "metadata": {},
   "source": [
    "Representation of the output is a one-dimensional list of 0s and 1s with the length of num_courses. For every taken course from the courses list, we put a 1 at the corresponding index in the output list and a 0 for the courses that are not taken. "
   ]
  },
  {
   "cell_type": "code",
   "execution_count": 27,
   "id": "bb60c05f",
   "metadata": {},
   "outputs": [
    {
     "data": {
      "text/plain": [
       "[0, 0, 0, 0, 0, 1, 0, 1, 1, 1, 0, 0, 0, 1, 0, 0, 1, 1, 1, 1]"
      ]
     },
     "execution_count": 27,
     "metadata": {},
     "output_type": "execute_result"
    }
   ],
   "source": [
    "# Sample output\n",
    "sample_output = [np.random.randint(2) for _ in range(num_courses)]\n",
    "sample_output"
   ]
  },
  {
   "cell_type": "markdown",
   "id": "088b3bdd",
   "metadata": {},
   "source": [
    "Now lets start with Genetic algorithm."
   ]
  },
  {
   "cell_type": "markdown",
   "id": "870ad206",
   "metadata": {},
   "source": [
    "## Genetic algorithm (+23 points)"
   ]
  },
  {
   "cell_type": "markdown",
   "id": "8ac27ce3",
   "metadata": {},
   "source": [
    "In every iteration of the genetic algorithm, we have a population of solutions. Then we apply selection, crossover, and mutation operations on the current population to generate the next generation in order to find better solutions for our problem. But first, we need an initial population."
   ]
  },
  {
   "cell_type": "markdown",
   "id": "d7d14b09",
   "metadata": {},
   "source": [
    "Complete the below function that takes the size of the population and the number of courses in our list and returns a random population:"
   ]
  },
  {
   "cell_type": "code",
   "execution_count": 14,
   "id": "2b120cc9",
   "metadata": {},
   "outputs": [],
   "source": [
    "def initial_population(population_size, num_courses):\n",
    "    # (3 points)\n",
    "    # returns a list random solutions with size of num_courses\n",
    "    zeroth_generation = []\n",
    "    for i in range(population_size):\n",
    "        # Your code here\n",
    "    return zeroth_generation"
   ]
  },
  {
   "cell_type": "markdown",
   "id": "7e291efc",
   "metadata": {},
   "source": [
    "After generating the zeroth generation, we need a fitness function to measure how good every solution is. One good approach is to aggregate ratings of all taken courses and determine the fitness as below. You can see if we have any time conflicts in output, the fitness function returns zero. Hence, the best solution should have fitness greater than zero and it means that there are conflicts between chosen courses in our solution. "
   ]
  },
  {
   "cell_type": "markdown",
   "id": "685426ba",
   "metadata": {},
   "source": [
    "\\begin{equation}\n",
    "Fitness=   \\left\\{\n",
    "\\begin{array}{ll}\n",
    "      \\sum \\text{Ratings of taken courses} & \\text{no conflicts in the given schedule} \\\\\n",
    "      0 & \\text{o.w.}\n",
    "\\end{array} \n",
    "\\right.\n",
    "\\end{equation}"
   ]
  },
  {
   "cell_type": "markdown",
   "id": "6b59e194",
   "metadata": {},
   "source": [
    "Now, complete the function below that takes a generation of solutions as input and returns a list of fitnesses for that generation:"
   ]
  },
  {
   "cell_type": "code",
   "execution_count": 15,
   "id": "f6bc341d",
   "metadata": {},
   "outputs": [],
   "source": [
    "def fitness(courses, generation, daily_timeslots, active_week_days):\n",
    "    # (5 points)\n",
    "    fitness_list = []\n",
    "    # Your code here\n",
    "    for gene in generation:\n",
    "        schedule = []\n",
    "        is_conflict = False\n",
    "        for i in range(active_week_days):\n",
    "            schedule.append([0 for _ in range(daily_timeslots)])\n",
    "        gene_fitness = 0\n",
    "        for i in range(len(gene)):\n",
    "            if gene[i] == 1:\n",
    "                # Your code here\n",
    "        if is_conflict:\n",
    "            fitness_list.append(0)\n",
    "        else:\n",
    "            fitness_list.append(gene_fitness)\n",
    "                        \n",
    "    return fitness_list"
   ]
  },
  {
   "cell_type": "markdown",
   "id": "2831ae46",
   "metadata": {},
   "source": [
    "Here we have three functions: selection, crossover, and mutation. The selection function takes a generation and its corresponding fitness list as input and returns a population called parents which will be used in the crossover function to generate the next generation. The method of our selection is Roulette Wheel and you have to implement this method here."
   ]
  },
  {
   "cell_type": "code",
   "execution_count": 16,
   "id": "b5d2fc6c",
   "metadata": {},
   "outputs": [],
   "source": [
    "# Roulette Wheel Selection\n",
    "def selection(generation, fitness_list):\n",
    "    # (6 points)\n",
    "    parents = []\n",
    "    total_fitness = sum(fitness_list)\n",
    "    for i in range(len(generation)):\n",
    "        # Your code here \n",
    "    return parents"
   ]
  },
  {
   "cell_type": "markdown",
   "id": "4512e0aa",
   "metadata": {},
   "source": [
    "In the crossover function, we take generated parents from the selection part and do a crossover from a random index for every consecutive pair. Be aware that every parent in the parents list belongs to exactly one pair."
   ]
  },
  {
   "cell_type": "code",
   "execution_count": 17,
   "id": "02c3a269",
   "metadata": {},
   "outputs": [],
   "source": [
    "def crossover(parents):\n",
    "    # (4 points)\n",
    "    new_generation = []\n",
    "\n",
    "    for i in range(0, len(parents) - 1, 2):\n",
    "        # Your code here\n",
    "        \n",
    "    if len(new_generation) < len(parents):\n",
    "        new_generation.append(parents[-1])\n",
    "    return new_generation"
   ]
  },
  {
   "cell_type": "markdown",
   "id": "d2e412c4",
   "metadata": {},
   "source": [
    "And at the final step, the mutation function takes the generation as input and for every solution in the generation, randomly chooses an index, and if the value is 0 changes it to 1 and vice versa."
   ]
  },
  {
   "cell_type": "code",
   "execution_count": 18,
   "id": "c742072f",
   "metadata": {},
   "outputs": [],
   "source": [
    "def mutation(generation):\n",
    "    # (3 points)\n",
    "    for gene in generation:\n",
    "       # Your code here \n",
    "    return generation"
   ]
  },
  {
   "cell_type": "markdown",
   "id": "96067ead",
   "metadata": {},
   "source": [
    "Now we can complete our genetic function using above functions:"
   ]
  },
  {
   "cell_type": "code",
   "execution_count": 33,
   "id": "6156f6eb",
   "metadata": {},
   "outputs": [],
   "source": [
    "def genetic(courses, daily_timeslots, active_week_days, population_size=50, max_generation=2290, mutation_prob=0.1):\n",
    "    # This function do seletion, crossover, and mutation for max_generation number of iterations\n",
    "    # Note that in every iteration apply mutation only with probability of mutation_prob\n",
    "    population = initial_population(population_size, len(courses))\n",
    "    fitness_list = fitness(courses, population, daily_timeslots, active_week_days)\n",
    "    best_fitness = max(fitness_list)\n",
    "    best_plan = population[np.argmax(fitness_list)]\n",
    "    best_fitness_list = []\n",
    "    for i in range(max_generation):\n",
    "        population = crossover(selection(population, fitness_list))\n",
    "        p = np.random.rand()\n",
    "        if p > mutation_prob:\n",
    "            population = mutation(population)\n",
    "        fitness_list = fitness(courses, population, daily_timeslots, active_week_days)\n",
    "        generation_best_fitness = max(fitness_list)\n",
    "        if best_fitness < generation_best_fitness:\n",
    "            best_fitness = generation_best_fitness\n",
    "            best_plan = population[np.argmax(fitness_list)]\n",
    "        best_fitness_list.append(max(fitness_list))\n",
    "    \n",
    "    return best_fitness_list, best_fitness, best_plan"
   ]
  },
  {
   "cell_type": "code",
   "execution_count": 34,
   "id": "f3b2700d",
   "metadata": {},
   "outputs": [],
   "source": [
    "best_fitness_list, best_fitness, best_plan = genetic(courses, daily_timeslots, active_week_days)"
   ]
  },
  {
   "cell_type": "code",
   "execution_count": 35,
   "id": "381bf8d0",
   "metadata": {
    "scrolled": true
   },
   "outputs": [
    {
     "name": "stdout",
     "output_type": "stream",
     "text": [
      "43\n",
      "[0, 0, 1, 0, 1, 1, 0, 1, 1, 0, 0, 0, 0, 1, 1, 1, 1, 0, 1, 0]\n"
     ]
    }
   ],
   "source": [
    "print(best_fitness)\n",
    "print(best_plan)"
   ]
  },
  {
   "cell_type": "code",
   "execution_count": 36,
   "id": "4deb4420",
   "metadata": {},
   "outputs": [
    {
     "data": {
      "text/plain": [
       "[[1, 1, 1, 1, 0, 0],\n",
       " [1, 1, 1, 1, 1, 1],\n",
       " [1, 1, 1, 1, 0, 0],\n",
       " [1, 0, 0, 1, 1, 1],\n",
       " [0, 0, 0, 1, 1, 0]]"
      ]
     },
     "execution_count": 36,
     "metadata": {},
     "output_type": "execute_result"
    }
   ],
   "source": [
    "# Write a code to show our best_plan in a two-dimensional list. (2 points)\n",
    "# You can fill free timeslots with 0 and busy timeslots with 1.\n",
    "# Your code here\n",
    "schedule1 = []\n",
    "is_conflict = False\n",
    "for i in range(active_week_days):\n",
    "    schedule1.append([0 for _ in range(daily_timeslots)])\n",
    "gene_fitness = 0\n",
    "for i in range(len(best_plan)):\n",
    "    # Your code here\n",
    "schedule1"
   ]
  },
  {
   "cell_type": "code",
   "execution_count": 75,
   "id": "c42e9e6f",
   "metadata": {
    "scrolled": true
   },
   "outputs": [],
   "source": [
    "# Plot best_fitness_list over generations.\n",
    "plt.plot(list(range(1, len(best_fitness_list) + 1)), best_fitness_list)\n",
    "plt.xlabel('Genration')\n",
    "plt.ylabel('Best fitness')\n",
    "plt.title('Best fitness over all generations plot')\n",
    "plt.show()"
   ]
  },
  {
   "cell_type": "markdown",
   "id": "0113efe5",
   "metadata": {},
   "source": [
    "## Simulated Annealing (19 points)"
   ]
  },
  {
   "cell_type": "markdown",
   "id": "99e6a796",
   "metadata": {},
   "source": [
    "In simulated annealing, we start from a random initial state and try to reach better states. Every state is a solution to our problem or in the other words a list of 0s and 1s that shows which courses are taken by the student. We are only allowed to move from the current state to one of the neighbor states or stay in the current state. we will explain more about how exactly we are going to take our moves, but first, we need to choose our start state."
   ]
  },
  {
   "cell_type": "markdown",
   "id": "3af2dd13",
   "metadata": {},
   "source": [
    "Complete the function below that takes number of available courses and generates a random initial state:"
   ]
  },
  {
   "cell_type": "code",
   "execution_count": 38,
   "id": "9302d99d",
   "metadata": {},
   "outputs": [],
   "source": [
    "def initial_state(num_courses):\n",
    "    # (1 point)\n",
    "    state = []\n",
    "\n",
    "    for i in range(num_courses):\n",
    "        # Your code here\n",
    "    \n",
    "    return state"
   ]
  },
  {
   "cell_type": "markdown",
   "id": "26630fa6",
   "metadata": {},
   "source": [
    "Now we have to find a neighbor state for the next step. We can define a neighbor state as a solution with only one difference. For example, if we have a state like [0, 1, 1, 1, 0], then [1, 1, 1, 1, 0] and [0, 1, 0, 1, 0] are two neighbor states for it."
   ]
  },
  {
   "cell_type": "markdown",
   "id": "b76e00ad",
   "metadata": {},
   "source": [
    "Complete the function below that takes the current state and returns a random neighbor of it:"
   ]
  },
  {
   "cell_type": "code",
   "execution_count": 39,
   "id": "b1d2933e",
   "metadata": {},
   "outputs": [],
   "source": [
    "def get_random_neighbor(current_state):\n",
    "    # (2 points)\n",
    "    neighbor_state = current_state.copy()\n",
    "    index = np.random.randint(len(neighbor_state))\n",
    "    if neighbor_state[index] == 0:\n",
    "        # Your code here\n",
    "    else:\n",
    "        # Your code here\n",
    "    return neighbor_state"
   ]
  },
  {
   "cell_type": "markdown",
   "id": "e7c73f77",
   "metadata": {},
   "source": [
    "After choosing a neighbor we have to compare the fitness of the current and neighbor state and act as below:"
   ]
  },
  {
   "cell_type": "markdown",
   "id": "0836d7a0",
   "metadata": {},
   "source": [
    "\n",
    "IF ($  \\Delta F = Fitness_{neighbor} - Fitness_{current} > 0 $):\n",
    "\n",
    "   Go to the neighbor state\n",
    "   \n",
    "ELSE:\n",
    "\n",
    "   Go to the neighbor state with probability $  e^{\\frac{\\Delta F}{T}} $\n",
    "   \n",
    "* T is temperature and after every step will be multiplied by a positive constant $A < 1$: $ T_{i+1} = A*T_i $"
   ]
  },
  {
   "cell_type": "markdown",
   "id": "12667642",
   "metadata": {},
   "source": [
    "We can use our fitness function from the Genetic section to calculate the fitnesses (attention: you have to pass proper inputs to the fitness function and the output will be a list, not a number). Now complete the function below that returns a boolean and tells us if we go to the neighbor state or not in case of $ \\Delta F < 0  $:"
   ]
  },
  {
   "cell_type": "code",
   "execution_count": 74,
   "id": "66953b71",
   "metadata": {},
   "outputs": [],
   "source": [
    "def go_neighbor_state(delta_f, temperature):\n",
    "    # (3 points)\n",
    "    # The out put must be boolean\n",
    "    # Your code here\n",
    "    return True"
   ]
  },
  {
   "cell_type": "markdown",
   "id": "7965fcd5",
   "metadata": {},
   "source": [
    "Now we can complete our simulated annealing function using above functions:"
   ]
  },
  {
   "cell_type": "code",
   "execution_count": 41,
   "id": "189d29ad",
   "metadata": {},
   "outputs": [],
   "source": [
    "def simulated_annealing(courses, daily_timeslots, active_week_days, temperature=10, temperature_limit=1e-9, temperature_scale=0.99, max_iters=2290):\n",
    "    # (11 points)\n",
    "    # temprature_limit and max_iters are two parameters for ending the algorithm\n",
    "    current_state = initial_state(len(courses))\n",
    "    current_fitness = fitness(courses, [current_state], daily_timeslots, active_week_days)[0]\n",
    "    fitness_list = [current_fitness]\n",
    "    best_state = None\n",
    "    best_fitness = 0\n",
    "    T = temperature\n",
    "    for i in range(max_iters):\n",
    "        # Your code here\n",
    "    \n",
    "    return fitness_list, best_state, best_fitness"
   ]
  },
  {
   "cell_type": "code",
   "execution_count": 54,
   "id": "b82fcd29",
   "metadata": {},
   "outputs": [],
   "source": [
    "fitness_list, best_state, best_state_fitness = simulated_annealing(courses, daily_timeslots, active_week_days)"
   ]
  },
  {
   "cell_type": "code",
   "execution_count": 55,
   "id": "ed783f51",
   "metadata": {},
   "outputs": [
    {
     "name": "stdout",
     "output_type": "stream",
     "text": [
      "42\n",
      "[0, 0, 1, 0, 1, 1, 0, 1, 0, 0, 0, 1, 0, 1, 1, 1, 1, 0, 1, 0]\n"
     ]
    }
   ],
   "source": [
    "print(best_state_fitness)\n",
    "print(best_state)"
   ]
  },
  {
   "cell_type": "code",
   "execution_count": 56,
   "id": "8b01dce2",
   "metadata": {},
   "outputs": [
    {
     "data": {
      "text/plain": [
       "[[1, 1, 1, 1, 0, 0],\n",
       " [1, 1, 1, 1, 1, 1],\n",
       " [1, 1, 1, 1, 0, 0],\n",
       " [1, 0, 0, 1, 1, 1],\n",
       " [0, 0, 0, 1, 1, 0]]"
      ]
     },
     "execution_count": 56,
     "metadata": {},
     "output_type": "execute_result"
    }
   ],
   "source": [
    "# Use your code from genetic section to show our best_state in a two-dimensional list. (2 points)\n",
    "schedule2 = []\n",
    "is_conflict = False\n",
    "for i in range(active_week_days):\n",
    "    schedule2.append([0 for _ in range(daily_timeslots)])\n",
    "gene_fitness = 0\n",
    "for i in range(len(best_state)):\n",
    "    # Your code here\n",
    "schedule2"
   ]
  },
  {
   "cell_type": "code",
   "execution_count": 72,
   "id": "2cd2b341",
   "metadata": {},
   "outputs": [],
   "source": [
    "# Plot fitness_list over all steps.\n",
    "plt.plot(list(range(1, len(fitness_list) + 1)), fitness_list)\n",
    "plt.xlabel('Step')\n",
    "plt.ylabel('Best fitness')\n",
    "plt.title('Best fitness over all steps plot')\n",
    "plt.show()"
   ]
  },
  {
   "cell_type": "markdown",
   "id": "23207096",
   "metadata": {},
   "source": [
    "# Question 3 (37 points)"
   ]
  },
  {
   "cell_type": "markdown",
   "id": "465e15d2",
   "metadata": {},
   "source": [
    "In this question we are going to implement gradient descent algorithm, test it on one-variable and two-variable functions and then visualize the path that algorithm takes to reach the global minimum."
   ]
  },
  {
   "cell_type": "markdown",
   "id": "9b759861",
   "metadata": {},
   "source": [
    "## Imports"
   ]
  },
  {
   "cell_type": "markdown",
   "id": "a02d766f",
   "metadata": {},
   "source": [
    "Feel free to import any library you need. You can use any library you want to complete this question."
   ]
  },
  {
   "cell_type": "code",
   "execution_count": 58,
   "id": "e39e3dde",
   "metadata": {},
   "outputs": [],
   "source": [
    "import numpy as np\n",
    "import matplotlib.pyplot as plt"
   ]
  },
  {
   "cell_type": "markdown",
   "id": "321b2bdd",
   "metadata": {},
   "source": [
    "## One-variable functions"
   ]
  },
  {
   "cell_type": "markdown",
   "id": "aa389a65",
   "metadata": {},
   "source": [
    "Fill these empty blocks according to the given functions:"
   ]
  },
  {
   "cell_type": "markdown",
   "id": "a3072f71",
   "metadata": {},
   "source": [
    "Function 1:\n",
    "\\begin{equation}\n",
    "f_1(x) = \\frac{x^2}{1 - sin(\\frac{x}{80})}\\quad and \\quad x \\in [80, 150]\n",
    "\\end{equation}"
   ]
  },
  {
   "cell_type": "code",
   "execution_count": 59,
   "id": "384b79a7",
   "metadata": {},
   "outputs": [],
   "source": [
    "def f1(x):\n",
    "    # (1 point)\n",
    "    # Your code here\n",
    "    return f"
   ]
  },
  {
   "cell_type": "markdown",
   "id": "98ed6ace",
   "metadata": {},
   "source": [
    "Function 2:\n",
    "\\begin{equation}\n",
    "f_2(x) = \\frac{sin(\\frac{x}{10})}{x}\\quad and \\quad x \\in [80, 250]\n",
    "\\end{equation}"
   ]
  },
  {
   "cell_type": "code",
   "execution_count": 60,
   "id": "a18ed633",
   "metadata": {},
   "outputs": [],
   "source": [
    "def f2(x):\n",
    "    # (1 point)\n",
    "    # Your code here\n",
    "    return f"
   ]
  },
  {
   "cell_type": "markdown",
   "id": "48340ba8",
   "metadata": {},
   "source": [
    "Complete the following function to draw a one-variable function and run the cells below it:"
   ]
  },
  {
   "cell_type": "code",
   "execution_count": 61,
   "id": "acd36afa",
   "metadata": {},
   "outputs": [],
   "source": [
    "def draw_one_var(func, x_range):\n",
    "    # (3 points)\n",
    "    # Your code here"
   ]
  },
  {
   "cell_type": "code",
   "execution_count": 62,
   "id": "b68143bf",
   "metadata": {},
   "outputs": [
    {
     "data": {
      "image/png": "[encoded data removed]",
      "text/plain": [
       "<Figure size 432x288 with 1 Axes>"
      ]
     },
     "metadata": {
      "needs_background": "light"
     },
     "output_type": "display_data"
    }
   ],
   "source": [
    "draw_one_var(f1, range(80, 150))"
   ]
  },
  {
   "cell_type": "code",
   "execution_count": 63,
   "id": "b6bcafef",
   "metadata": {},
   "outputs": [
    {
     "data": {
      "image/png": "[encoded data removed]",
      "text/plain": [
       "<Figure size 432x288 with 1 Axes>"
      ]
     },
     "metadata": {
      "needs_background": "light"
     },
     "output_type": "display_data"
    }
   ],
   "source": [
    "draw_one_var(f2, range(80, 250))"
   ]
  },
  {
   "cell_type": "markdown",
   "id": "8da9cd57",
   "metadata": {},
   "source": [
    "Now we want to choose a proper function and perform  gradient descent on it and find the minimum. Which funtion is a good choice for this? Why? (3 point)"
   ]
  },
  {
   "cell_type": "markdown",
   "id": "5a13f4cf",
   "metadata": {},
   "source": [
    "Your answer:"
   ]
  },
  {
   "cell_type": "markdown",
   "id": "33a115ec",
   "metadata": {},
   "source": [
    "Complete the function below and use it to find the minimum of your chosen function:"
   ]
  },
  {
   "cell_type": "code",
   "execution_count": 64,
   "id": "2355c47b",
   "metadata": {},
   "outputs": [],
   "source": [
    "def one_var_gradient_descent(function, initial_point, learning_rate = 0.1, max_iters = 1000):\n",
    "    # (6 points)\n",
    "    x = initial_point\n",
    "    y = function(x)\n",
    "    \n",
    "    # Your code here\n",
    "    \n",
    "    return y, x"
   ]
  },
  {
   "cell_type": "code",
   "execution_count": 65,
   "id": "c19de323",
   "metadata": {},
   "outputs": [
    {
     "data": {
      "text/plain": [
       "(7.812703419677268e-05, 125.6557477888185)"
      ]
     },
     "execution_count": 65,
     "metadata": {},
     "output_type": "execute_result"
    }
   ],
   "source": [
    "# Use one_var_gradient_descent function and find the minimum point: (2 points) \n",
    "# Your code here\n"
   ]
  },
  {
   "cell_type": "markdown",
   "id": "457c4465",
   "metadata": {},
   "source": [
    "Does it correspond to the plot of function? (1 point)"
   ]
  },
  {
   "cell_type": "markdown",
   "id": "ef8fa121",
   "metadata": {},
   "source": [
    "Your answer:"
   ]
  },
  {
   "cell_type": "markdown",
   "id": "9af48a35",
   "metadata": {},
   "source": [
    "## Two-variable functions"
   ]
  },
  {
   "cell_type": "markdown",
   "id": "48ceda03",
   "metadata": {},
   "source": [
    "Now we want to do the same process for two-variable functions. Consider the following function and implement it in the cell below it:"
   ]
  },
  {
   "cell_type": "markdown",
   "id": "2e380ea1",
   "metadata": {},
   "source": [
    "Function 3:\n",
    "\\begin{equation}\n",
    "f_3(x) = 5 x^2 + 2 y^2 - xy\\quad and \\quad x \\in [-1, 1] \\quad, y \\in [-1, 1]\n",
    "\\end{equation}"
   ]
  },
  {
   "cell_type": "code",
   "execution_count": 66,
   "id": "7f03d370",
   "metadata": {},
   "outputs": [],
   "source": [
    "def f3(x, y):\n",
    "    # (1 point)\n",
    "    # Your code here\n",
    "    return f"
   ]
  },
  {
   "cell_type": "markdown",
   "id": "f200501b",
   "metadata": {},
   "source": [
    "Complete the function below that performs two-dimensional gradient descent and returns the x and y sequence of the path from the initial point to the minimum:"
   ]
  },
  {
   "cell_type": "code",
   "execution_count": 67,
   "id": "599fd864",
   "metadata": {},
   "outputs": [],
   "source": [
    "def two_var_gradiant_descent(function, initial_point, learning_rate=0.01, max_iterations=1000):\n",
    "    # (12 points)\n",
    "    x_sequence = [initial_point[0]]\n",
    "    y_sequence = [initial_point[1]]\n",
    "    x = initial_point[0]\n",
    "    y = initial_point[1]\n",
    "    for i in range(max_iterations):\n",
    "        epsilon = 10**-6\n",
    "        # Your code here\n",
    "    \n",
    "    return x_sequence, y_sequence"
   ]
  },
  {
   "cell_type": "markdown",
   "id": "65eff56f",
   "metadata": {},
   "source": [
    "Now we use the below function to visualize the calculated path of two_var_gradiant_descent:"
   ]
  },
  {
   "cell_type": "code",
   "execution_count": 68,
   "id": "9f22f298",
   "metadata": {},
   "outputs": [],
   "source": [
    "def draw_points_sequence(func, x_sequence, y_sequence):\n",
    "    X, Y = np.meshgrid(np.linspace(-1.0, 1.0, 100), np.linspace(-1.0, 1.0, 100))\n",
    "    Z = func(X, Y)\n",
    "    cp = plt.contour(X, Y, Z, colors='black', linestyles='dashed', linewidths=1)\n",
    "    plt.clabel(cp, inline=1, fontsize=10)\n",
    "    cp = plt.contourf(X, Y, Z, )\n",
    "    plt.xlabel('X')\n",
    "    plt.ylabel('Y')\n",
    "    plt.scatter(x_sequence, y_sequence, s=10, c=\"y\")\n",
    "    plt.show()"
   ]
  },
  {
   "cell_type": "markdown",
   "id": "e8c9ef3d",
   "metadata": {},
   "source": [
    "Find the minimum of the function 3 using two_var_gradiant_descent and then visualize the path with draw_points_sequence for the given parameters:\n",
    "- initial_point = (-0.5, 0.5)\n",
    "- learning_rate = 0.01\n",
    "- max_iterations = 1000"
   ]
  },
  {
   "cell_type": "code",
   "execution_count": 69,
   "id": "a7dc5bac",
   "metadata": {},
   "outputs": [
    {
     "data": {
      "image/png": "[encoded data removed]",
      "text/plain": [
       "<Figure size 432x288 with 1 Axes>"
      ]
     },
     "metadata": {
      "needs_background": "light"
     },
     "output_type": "display_data"
    }
   ],
   "source": [
    "# Your code here (2 points)\n",
    "'''\n",
    "The specifics of the upcoming plot are unimportant,\n",
    " such as the color, labels, and other non-essential elements.\n",
    "  The crucial aspect is the plot's overall structure.\n",
    "'''"
   ]
  },
  {
   "cell_type": "markdown",
   "id": "d614a221",
   "metadata": {},
   "source": [
    "Find the minimum of the function 3 using two_var_gradiant_descent and then visualize the path with draw_points_sequence for the given parameters:\n",
    "- initial_point = (-0.5, 0.5)\n",
    "- learning_rate = 0.1\n",
    "- max_iterations = 1000"
   ]
  },
  {
   "cell_type": "code",
   "execution_count": 70,
   "id": "633b1556",
   "metadata": {},
   "outputs": [
    {
     "data": {
      "image/png": "[encoded data removed]",
      "text/plain": [
       "<Figure size 432x288 with 1 Axes>"
      ]
     },
     "metadata": {
      "needs_background": "light"
     },
     "output_type": "display_data"
    }
   ],
   "source": [
    "# Your code here (2 points)\n",
    "'''\n",
    "The specifics of the upcoming plot are unimportant,\n",
    " such as the color, labels, and other non-essential elements.\n",
    "  The crucial aspect is the plot's overall structure.\n",
    "'''"
   ]
  },
  {
   "cell_type": "markdown",
   "id": "d7faf44c",
   "metadata": {},
   "source": [
    "Find the minimum of the function 3 using two_var_gradiant_descent and then visualize the path with draw_points_sequence for the given parameters:\n",
    "- initial_point = (-0.5, 0.5)\n",
    "- learning_rate = 0.2\n",
    "- max_iterations = 1000"
   ]
  },
  {
   "cell_type": "code",
   "execution_count": 71,
   "id": "07cc6176",
   "metadata": {},
   "outputs": [
    {
     "data": {
      "image/png": "[encoded data removed]",
      "text/plain": [
       "<Figure size 432x288 with 1 Axes>"
      ]
     },
     "metadata": {
      "needs_background": "light"
     },
     "output_type": "display_data"
    }
   ],
   "source": [
    "# Your code here (2 points)\n",
    "'''\n",
    "The specifics of the upcoming plot are unimportant,\n",
    " such as the color, labels, and other non-essential elements.\n",
    "  The crucial aspect is the plot's overall structure.\n",
    "'''"
   ]
  },
  {
   "cell_type": "markdown",
   "id": "9d0ae9b8",
   "metadata": {},
   "source": [
    "Explain your observation from these three plots. What can we say about the learning rate? (5 points)"
   ]
  },
  {
   "cell_type": "markdown",
   "id": "3015dcab",
   "metadata": {},
   "source": [
    "Your answer:"
   ]
  }
 ],
 "metadata": {
  "kernelspec": {
   "display_name": "Python 3 (ipykernel)",
   "language": "python",
   "name": "python3"
  },
  "language_info": {
   "codemirror_mode": {
    "name": "ipython",
    "version": 3
   },
   "file_extension": ".py",
   "mimetype": "text/x-python",
   "name": "python",
   "nbconvert_exporter": "python",
   "pygments_lexer": "ipython3",
   "version": "3.9.13"
  }
 },
 "nbformat": 4,
 "nbformat_minor": 5
}
