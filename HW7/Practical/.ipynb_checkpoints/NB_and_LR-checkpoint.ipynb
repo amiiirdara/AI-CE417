{
 "cells": [
  {
   "cell_type": "markdown",
   "metadata": {
    "id": "5AzNo1pOhIcH"
   },
   "source": [
    "The implementation of Naive Bayes and Logistic Regression is supposed to be from scratch."
   ]
  },
  {
   "cell_type": "markdown",
   "metadata": {
    "id": "36YSVA-j5xQ5"
   },
   "source": [
    "# Naive Bayes (50)"
   ]
  },
  {
   "cell_type": "markdown",
   "metadata": {
    "id": "zGGm0CAthrVm"
   },
   "source": [
    "Naive Bayes methods are a set of supervised learning algorithms based on applying Bayes’ theorem with the “naive” assumption of conditional independence between every pair of features given the value of the class variable."
   ]
  },
  {
   "cell_type": "markdown",
   "metadata": {
    "id": "Rr5nM6pCigHq"
   },
   "source": [
    "$P(y \\mid x_1, \\dots, x_n) = \\frac{P(y) P(x_1, \\dots, x_n \\mid y)} {P(x_1, \\dots, x_n)}$"
   ]
  },
  {
   "cell_type": "markdown",
   "metadata": {
    "id": "iBCcOp2Zis3f"
   },
   "source": [
    "$P(x_i | y, x_1, \\dots, x_{i-1}, x_{i+1}, \\dots, x_n) = P(x_i | y)$"
   ]
  },
  {
   "cell_type": "markdown",
   "metadata": {
    "id": "5_8sGl2JiyC1"
   },
   "source": [
    "$P(y \\mid x_1, \\dots, x_n) = \\frac{P(y) \\prod_{i=1}^{n} P(x_i \\mid y)}{P(x_1, \\dots, x_n)}$"
   ]
  },
  {
   "cell_type": "markdown",
   "metadata": {
    "id": "6cm2XNKHi2PG"
   },
   "source": [
    "$\\begin{align}\\begin{aligned}P(y \\mid x_1, \\dots, x_n) \\propto P(y) \\prod_{i=1}{n} P(x_i \\mid y)\\\\\\Downarrow\\\\\\hat{y} = \\arg\\max_y P(y) \\prod_{i=1}^{n} P(x_i \\mid y)\\end{aligned}\\end{align}$"
   ]
  },
  {
   "cell_type": "markdown",
   "metadata": {
    "id": "I8hTshtjjD4c"
   },
   "source": [
    "In spite of their apparently over-simplified assumptions, naive Bayes classifiers have worked quite well in many real-world situations, famously document classification and spam filtering. They require a small amount of training data to estimate the necessary parameters. "
   ]
  },
  {
   "cell_type": "markdown",
   "metadata": {
    "id": "MhGOePaPjPbG"
   },
   "source": [
    "Naive Bayes learners and classifiers can be extremely fast compared to more sophisticated methods. The decoupling of the class conditional feature distributions means that each distribution can be independently estimated as a one dimensional distribution. This in turn helps to alleviate problems stemming from the curse of dimensionality.\n",
    "\n",
    "On the flip side, although naive Bayes is known as a decent classifier, it is known to be a bad estimator, so the probability outputs are not to be taken too seriously."
   ]
  },
  {
   "cell_type": "code",
   "execution_count": 462,
   "metadata": {
    "id": "luSQvKVFiMVR"
   },
   "outputs": [],
   "source": [
    "import seaborn as sns\n",
    "import pandas as pd\n",
    "import matplotlib.pyplot as plt\n",
    "import numpy as np\n",
    "from scipy.stats import norm\n",
    "np.random.seed(123)"
   ]
  },
  {
   "cell_type": "markdown",
   "metadata": {
    "id": "mG9eriVCk5ZW"
   },
   "source": [
    "### Dataset\n",
    "Load the given dataset. The last column contains the labels. \n",
    "\n",
    "Preprocess if needed."
   ]
  },
  {
   "cell_type": "code",
   "execution_count": 465,
   "metadata": {
    "id": "mcK58W-tkxxK"
   },
   "outputs": [
    {
     "name": "stdout",
     "output_type": "stream",
     "text": [
      "Data:\n",
      "[[ 0.10635  0.12803]\n",
      " [ 0.02403 -0.07484]\n",
      " [ 0.02237  0.01745]\n",
      " ...\n",
      " [-0.15642  0.08101]\n",
      " [-0.02797 -0.00697]\n",
      " [ 0.0743  -0.09015]]\n",
      "\n",
      "Labels:\n",
      "[0. 1. 0. 0. 0. 1. 1. 0. 1. 0. 1. 0. 0. 1. 1. 0. 1. 1. 0. 1. 0. 0. 1. 1.\n",
      " 0. 1. 1. 0. 0. 0. 1. 0. 0. 0. 0. 1. 1. 0. 1. 1. 0. 0. 0. 1. 0. 1. 1. 1.\n",
      " 0. 1. 0. 0. 0. 0. 0. 0. 1. 1. 0. 1. 1. 0. 1. 0. 0. 1. 0. 0. 0. 1. 0. 0.\n",
      " 1. 0. 0. 0. 0. 0. 1. 0. 1. 1. 1. 0. 0. 0. 1. 0. 1. 0. 0. 1. 1. 1. 0. 1.\n",
      " 0. 1. 0. 1. 1. 1. 0. 1. 1. 0. 1. 0. 0. 1. 1. 1. 0. 1. 0. 0. 1. 1. 0. 1.\n",
      " 0. 1. 1. 1. 1. 1. 1. 1. 1. 0. 0. 0. 1. 0. 0. 1. 1. 1. 1. 1. 1. 0. 1. 1.\n",
      " 1. 0. 0. 1. 0. 0. 0. 1. 0. 0. 1. 0. 1. 0. 1. 1. 1. 1. 1. 0. 0. 1. 1. 0.\n",
      " 1. 1. 0. 1. 0. 0. 0. 1. 0. 0. 0. 1. 1. 0. 0. 1. 0. 0. 0. 1. 1. 0. 0. 0.\n",
      " 0. 1. 1. 1. 1. 0. 1. 0. 0. 0. 1. 1. 0. 1. 1. 1. 0. 1. 1. 1. 0. 1. 0. 1.\n",
      " 0. 0. 0. 0. 0. 0. 0. 0. 1. 0. 0. 0. 0. 0. 0. 0. 0. 1. 0. 0. 1. 1. 1. 1.\n",
      " 1. 0. 1. 1. 1. 1. 0. 0. 0. 0. 0. 1. 1. 0. 1. 0. 1. 0. 0. 0. 0. 0. 1. 0.\n",
      " 1. 1. 1. 1. 1. 0. 0. 1. 1. 0. 0. 0. 1. 0. 1. 1. 1. 0. 0. 1. 1. 1. 1. 0.\n",
      " 0. 0. 1. 1. 0. 1. 0. 0. 1. 0. 0. 1. 0. 0. 0. 1. 1. 1. 0. 0. 0. 0. 1. 1.\n",
      " 0. 0. 1. 0. 1. 1. 0. 0. 0. 0. 1. 1. 1. 1. 0. 0. 0. 1. 1. 0. 0. 0. 0. 0.\n",
      " 0. 1. 1. 1. 0. 0. 1. 1. 0. 1. 0. 1. 0. 1. 0. 1. 0. 1. 0. 0. 0. 0. 0. 1.\n",
      " 0. 0. 0. 1. 1. 0. 0. 1. 0. 0. 1. 0. 1. 1. 1. 1. 1. 1. 0. 1. 1. 1. 1. 0.\n",
      " 1. 1. 0. 0. 1. 1. 0. 1. 1. 0. 1. 1. 1. 0. 0. 1. 0. 1. 1. 0. 0. 0. 0. 1.\n",
      " 1. 1. 1. 0. 1. 0. 1. 0. 0. 0. 0. 0. 1. 0. 0. 0. 1. 0. 0. 0. 1. 0. 0. 1.\n",
      " 1. 0. 1. 0. 1. 0. 1. 1. 1. 0. 0. 1. 1. 1. 0. 0. 1. 1. 0. 0. 1. 1. 1. 1.\n",
      " 0. 0. 0. 1. 0. 0. 1. 1. 1. 1. 1. 0. 0. 0. 0. 0. 0. 1. 1. 1. 0. 0. 1. 1.\n",
      " 1. 1. 1. 0. 1. 1. 1. 1. 0. 0. 1. 0. 0. 0. 0. 0. 1. 0. 0. 0. 1. 0. 0. 1.\n",
      " 0. 1. 1. 0. 0. 0. 0. 1. 0. 0. 1. 1. 0. 1. 0. 0. 1. 0. 1. 0. 0. 1. 1. 0.\n",
      " 1. 1. 0. 1. 1. 0. 1. 0. 0. 0. 0. 1. 0. 0. 1. 1. 1. 0. 0. 0. 0. 1. 1. 1.\n",
      " 0. 0. 0. 1. 1. 0. 0. 1. 1. 0. 0. 0. 0. 0. 1. 0. 1. 0. 0. 1. 1. 1. 1. 1.\n",
      " 1. 1. 0. 0. 0. 1. 1. 1. 0. 0. 0. 1. 1. 1. 1. 1. 1. 1. 1. 0. 1. 0. 0. 0.\n",
      " 0. 0. 1. 0. 1. 0. 1. 0. 1. 1. 1. 1. 0. 1. 0. 1. 0. 1. 1. 1. 0. 0. 0. 0.\n",
      " 0. 1. 1. 1. 0. 0. 0. 1. 0. 0. 1. 0. 0. 1. 0. 0. 0. 1. 0. 1. 1. 1. 0. 1.\n",
      " 0. 0. 0. 1. 0. 1. 0. 0. 0. 1. 0. 1. 1. 1. 1. 0. 0. 1. 0. 1. 1. 0. 1. 1.\n",
      " 1. 1. 1. 1. 1. 0. 1. 0. 1. 0. 0. 1. 1. 1. 0. 0. 1. 1. 0. 0. 0. 1. 1. 1.\n",
      " 1. 1. 1. 0. 1. 1. 1. 0. 1. 1. 0. 1. 0. 0. 0. 1. 0. 1. 1. 1. 0. 1. 0. 1.\n",
      " 1. 1. 1. 0. 1. 0. 1. 1. 1. 1. 1. 0. 0. 0. 0. 0. 0. 0. 0. 1. 1. 0. 1. 1.\n",
      " 0. 0. 1. 1. 0. 1. 0. 0. 0. 0. 0. 0. 1. 1. 0. 1. 1. 0. 0. 0. 0. 0. 1. 1.\n",
      " 0. 1. 0. 0. 1. 1. 0. 1. 0. 1. 1. 1. 0. 0. 0. 1. 1. 0. 1. 1. 0. 1. 1. 0.\n",
      " 0. 0. 1. 1. 0. 1. 0. 0. 0. 1. 0. 1. 1. 0. 1. 0. 1. 0. 1. 1. 0. 0. 1. 1.\n",
      " 1. 1. 0. 0. 0. 0. 1. 0. 0. 0. 0. 1. 1. 0. 0. 1. 0. 0. 0. 0. 0. 1. 0. 1.\n",
      " 0. 0. 0. 0. 0. 1. 0. 0. 1. 1. 0. 0. 1. 1. 1. 1. 1. 0. 0. 0. 0. 0. 0. 0.\n",
      " 1. 0. 1. 0. 0. 1. 1. 0. 1. 0. 0. 0. 0. 0. 1. 1. 1. 0. 1. 1. 0. 0. 1. 0.\n",
      " 1. 0. 1. 0. 0. 0. 1. 1. 1. 0. 0. 1. 0. 1. 0. 0. 1. 0. 1. 1. 1. 1. 1. 1.\n",
      " 1. 1. 0. 0. 1. 1. 0. 1. 1. 0. 0. 1. 1. 1. 0. 0. 1. 0. 1. 1. 0. 1. 1. 0.\n",
      " 0. 1. 0. 0. 1. 0. 0. 0. 0. 0. 1. 0. 1. 0. 0. 0. 1. 0. 1. 1. 1. 0. 0. 1.\n",
      " 1. 1. 1. 1. 1. 0. 0. 0. 0. 0. 1. 1. 1. 1. 1. 0. 0. 0. 1. 0. 1. 1. 0. 1.\n",
      " 1. 0. 1. 0. 1. 1. 0. 0. 1. 1. 0. 1. 0. 0. 0. 1.]\n"
     ]
    }
   ],
   "source": [
    "data = np.loadtxt('data.txt', delimiter=' ', usecols=range(-1))\n",
    "labels = data[:, -1]\n",
    "data = data[:, :-1]\n",
    "print(\"Data:\")\n",
    "print(data)\n",
    "print()\n",
    "print(\"Labels:\")\n",
    "print(labels)"
   ]
  },
  {
   "cell_type": "markdown",
   "metadata": {
    "id": "SS4_sX-Dmd9H"
   },
   "source": [
    "Consider the values of each class. Create a dictionary for the dataset, with classes as keys and the entries of the dataset as values."
   ]
  },
  {
   "cell_type": "code",
   "execution_count": 468,
   "metadata": {
    "id": "0nDpA3InmdKG"
   },
   "outputs": [],
   "source": [
    "def create_class_dictionary(data, labels):\n",
    "    class_dictionary = {}\n",
    "    unique_classes = np.unique(labels)    \n",
    "    for class_label in unique_classes:\n",
    "        class_indices = np.where(labels == class_label)[0]\n",
    "        class_entries = data[class_indices]\n",
    "        class_dictionary[class_label] = class_entries\n",
    "    return class_dictionary"
   ]
  },
  {
   "cell_type": "markdown",
   "metadata": {
    "id": "7oRTA9MPnMhW"
   },
   "source": [
    "For the dataset dictionary, find the mean and standard deviation of all classes. The output format should be a list of two lists, the first one the mean and standard deviation of the first column and the second one is for the second column."
   ]
  },
  {
   "cell_type": "code",
   "execution_count": 469,
   "metadata": {
    "id": "i4WGyr1Kl69o"
   },
   "outputs": [],
   "source": [
    "def info(data):\n",
    "    mean = np.mean(data, axis=0)\n",
    "    std = np.std(data, axis=0)\n",
    "    return mean, std"
   ]
  },
  {
   "cell_type": "code",
   "execution_count": 470,
   "metadata": {
    "id": "bD_VHsMpnhg_"
   },
   "outputs": [],
   "source": [
    "def class_info(class_dictionary):\n",
    "    class_stats = []\n",
    "    for class_label, class_data in class_dictionary.items():\n",
    "        class_mean, class_std = info(class_data)\n",
    "        print('class mean:', class_mean)\n",
    "        print('class std:', class_std)\n",
    "        class_stats.append([class_mean, class_std])\n",
    "    return class_stats"
   ]
  },
  {
   "cell_type": "markdown",
   "metadata": {
    "id": "LWp9wJ7LpIK6"
   },
   "source": [
    "### Visualization\n",
    "Use the imported libraries to visualize the given data. \n",
    "\n",
    "Why is the info step valid in this dataset? \n",
    "\n",
    "What is the type of this dataset's distribution? With other distribution types, what action would be needed to obtain the mean and standard variation info?"
   ]
  },
  {
   "cell_type": "code",
   "execution_count": 473,
   "metadata": {
    "id": "Mdut2HsDpG7P"
   },
   "outputs": [],
   "source": [
    "def plot_class_info(class_stats):\n",
    "    num_features = len(class_stats[0][0])    \n",
    "    fig, ax = plt.subplots(num_features, 2, figsize=(12, 8))\n",
    "    for i in range(num_features):\n",
    "        for j, (class_mean, class_std) in enumerate(class_stats):\n",
    "            ax[i, 0].bar(j, class_mean[i], yerr=class_std[i], align='center', alpha=0.5)\n",
    "            ax[i, 0].set_xticks(range(len(class_stats)))\n",
    "            ax[i, 0].set_xticklabels(range(1, len(class_stats) + 1))\n",
    "            ax[i, 0].set_ylabel('Mean')            \n",
    "            ax[i, 1].bar(j, class_std[i], align='center', alpha=0.5)\n",
    "            ax[i, 1].set_xticks(range(len(class_stats)))\n",
    "            ax[i, 1].set_xticklabels(range(1, len(class_stats) + 1))\n",
    "            ax[i, 1].set_ylabel('Standard Deviation')\n",
    "    plt.xlabel('Class')\n",
    "    plt.tight_layout()\n",
    "    plt.show()"
   ]
  },
  {
   "cell_type": "code",
   "execution_count": 474,
   "metadata": {},
   "outputs": [
    {
     "name": "stdout",
     "output_type": "stream",
     "text": [
      "class mean: [-0.00586012  0.00192934]\n",
      "class std: [0.09924148 0.10099018]\n",
      "class mean: [-0.00174086  0.00417055]\n",
      "class std: [0.10214804 0.1087157 ]\n"
     ]
    },
    {
     "data": {
      "image/png": "[encoded data removed]",
      "text/plain": [
       "<Figure size 864x576 with 4 Axes>"
      ]
     },
     "metadata": {
      "needs_background": "light"
     },
     "output_type": "display_data"
    }
   ],
   "source": [
    "class_dict = create_class_dictionary(data, labels)\n",
    "class_stats = class_info(class_dict)\n",
    "plot_class_info(class_stats)"
   ]
  },
  {
   "cell_type": "markdown",
   "metadata": {
    "id": "w9YhQPq5qQmi"
   },
   "source": [
    "### Model Details\n",
    "\n",
    "As explained above, to create this model, you need a prior function and a likelihood function.\n",
    "\n",
    "In the likelihood function, you need to calculate the probability of the query belonging to a class. "
   ]
  },
  {
   "cell_type": "code",
   "execution_count": 475,
   "metadata": {
    "id": "DE_8cfT9qT7F"
   },
   "outputs": [],
   "source": [
    "def prior(class_dictionary, labels):\n",
    "    prior_probabilities = {}\n",
    "    total_samples = len(labels)\n",
    "    for class_label, class_count in class_dictionary.items():\n",
    "        prior_probabilities[class_label] = class_count / total_samples\n",
    "    return prior_probabilities"
   ]
  },
  {
   "cell_type": "code",
   "execution_count": 476,
   "metadata": {
    "id": "BrZwF9jNq54e"
   },
   "outputs": [],
   "source": [
    "def likelihood(class_dictionary, query):\n",
    "    likelihood_probabilities = {}\n",
    "    for class_label, class_entire in class_dictionary.items():\n",
    "        likelihood_probabilities[class_label] = 1.0\n",
    "        try:\n",
    "            total_samples = sum(class_dictionary.values())\n",
    "            for feature_value, feature_count in query.items():\n",
    "                likelihood_probabilities[class_label] *= (feature_count / class_entire)\n",
    "            likelihood_probabilities[class_label] *= (class_entire / total_samples)\n",
    "        except:\n",
    "            pass\n",
    "    return likelihood_probabilities"
   ]
  },
  {
   "cell_type": "markdown",
   "metadata": {
    "id": "Yyc87dyz0ZtC"
   },
   "source": [
    "### Predict\n"
   ]
  },
  {
   "cell_type": "code",
   "execution_count": 477,
   "metadata": {
    "id": "LC7-G7-C0UeI"
   },
   "outputs": [],
   "source": [
    "def predict(data, labels, query):\n",
    "    class_dictionary = create_class_dictionary(data, labels)\n",
    "    prior_probabilities = prior(class_dictionary, labels)\n",
    "    likelihood_probabilities = likelihood(class_dictionary, query)\n",
    "    predicted_class = None\n",
    "    max_posterior_probability = float('-inf')\n",
    "    for class_label, prior_prob in prior_probabilities.items():\n",
    "        likelihood_prob = likelihood_probabilities[class_label]\n",
    "        posterior_prob = prior_prob.any() * likelihood_prob\n",
    "        if posterior_prob > max_posterior_probability:\n",
    "            max_posterior_probability = posterior_prob\n",
    "            predicted_class = class_label\n",
    "    return predicted_class"
   ]
  },
  {
   "cell_type": "code",
   "execution_count": 478,
   "metadata": {
    "id": "cRfNQZ8-04DL"
   },
   "outputs": [],
   "source": [
    "def NB(data, labels, queries):\n",
    "    predictions = []\n",
    "    for query in queries:\n",
    "        prediction = predict(data, labels, query)\n",
    "        predictions.append(prediction)\n",
    "    return predictions"
   ]
  },
  {
   "cell_type": "markdown",
   "metadata": {
    "id": "ptYF5MxR1IXj"
   },
   "source": [
    "### Test\n",
    "To test the model, import a suitable dataset from sklearn library to check the accuracy of your model. Then import GaussianNB from sklearn and compare your model's result with it."
   ]
  },
  {
   "cell_type": "code",
   "execution_count": 7,
   "metadata": {
    "id": "Pq-bDAf11HKI"
   },
   "outputs": [
    {
     "name": "stdout",
     "output_type": "stream",
     "text": [
      "Defaulting to user installation because normal site-packages is not writeable\n",
      "Collecting scikit-learn\n",
      "  Using cached scikit_learn-1.2.2-cp310-cp310-manylinux_2_17_x86_64.manylinux2014_x86_64.whl (9.6 MB)\n",
      "Requirement already satisfied: numpy>=1.17.3 in /usr/lib/python3/dist-packages (from scikit-learn) (1.21.5)\n",
      "Requirement already satisfied: scipy>=1.3.2 in /usr/lib/python3/dist-packages (from scikit-learn) (1.8.0)\n",
      "Collecting joblib>=1.1.1 (from scikit-learn)\n",
      "  Using cached joblib-1.2.0-py3-none-any.whl (297 kB)\n",
      "Collecting threadpoolctl>=2.0.0 (from scikit-learn)\n",
      "  Using cached threadpoolctl-3.1.0-py3-none-any.whl (14 kB)\n",
      "Installing collected packages: threadpoolctl, joblib, scikit-learn\n",
      "Successfully installed joblib-1.2.0 scikit-learn-1.2.2 threadpoolctl-3.1.0\n"
     ]
    }
   ],
   "source": [
    "# ! pip install scikit-learn"
   ]
  },
  {
   "cell_type": "code",
   "execution_count": 479,
   "metadata": {},
   "outputs": [],
   "source": [
    "from sklearn.model_selection import train_test_split\n",
    "from sklearn.datasets import load_iris\n",
    "from sklearn.naive_bayes import GaussianNB\n",
    "\n",
    "def my_train_test_split(data, labels, test_size):\n",
    "    return train_test_split(data, labels, test_size=test_size)"
   ]
  },
  {
   "cell_type": "code",
   "execution_count": 480,
   "metadata": {
    "id": "ogw89sLN1o1_"
   },
   "outputs": [],
   "source": [
    "def accuracy(ground_truth, predictions):\n",
    "    correct = sum(ground_truth == predictions)\n",
    "    total = len(ground_truth)\n",
    "    accuracy = correct / total\n",
    "    return accuracy"
   ]
  },
  {
   "cell_type": "code",
   "execution_count": 482,
   "metadata": {
    "id": "BGwM37ZX1vBk",
    "scrolled": true
   },
   "outputs": [
    {
     "name": "stdout",
     "output_type": "stream",
     "text": [
      "Naive Bayes Model Accuracy: 0.54\n",
      "GaussianNB Accuracy: 0.565\n"
     ]
    }
   ],
   "source": [
    "X_train, X_test, y_train, y_test = my_train_test_split(data, labels, test_size=0.2)\n",
    "naive_bayes_predictions = NB(X_train, y_train, X_test)\n",
    "gaussian_nb = GaussianNB()\n",
    "gaussian_nb.fit(X_train, y_train)\n",
    "sklearn_predictions = gaussian_nb.predict(X_test)\n",
    "accuracy_naive_bayes = accuracy(y_test, naive_bayes_predictions)\n",
    "accuracy_sklearn = accuracy(y_test, sklearn_predictions)\n",
    "print(\"Naive Bayes Model Accuracy:\", accuracy_naive_bayes)\n",
    "print(\"GaussianNB Accuracy:\", accuracy_sklearn)"
   ]
  },
  {
   "cell_type": "markdown",
   "metadata": {
    "id": "pB3_dUtp2RGb"
   },
   "source": [
    "# Linear Regression (35)\n",
    "\n",
    "Linear regression analysis is used to predict the value of a variable based on the value of another variable. The variable you want to predict is called the dependent variable. The variable you are using to predict the other variable's value is called the independent variable.\n",
    "\n",
    "Ordinary least squares Linear Regression.\n",
    "\n",
    "LinearRegression from sklearn.linear_model fits a linear model with coefficients w = (w1, …, wp) to minimize the residual sum of squares between the observed targets in the dataset, and the targets predicted by the linear approximation.\n",
    "\n",
    "In this section, you will implement a simple linear regression model using sklearn. Only the first feature of the diabetes dataset is required for this part."
   ]
  },
  {
   "cell_type": "code",
   "execution_count": 483,
   "metadata": {
    "id": "V6nHfZLH2D_1"
   },
   "outputs": [],
   "source": [
    "from sklearn.metrics import r2_score\n",
    "from sklearn import datasets, linear_model"
   ]
  },
  {
   "cell_type": "code",
   "execution_count": 484,
   "metadata": {
    "id": "VsJA9bM235h9"
   },
   "outputs": [],
   "source": [
    "diabetes_X, diabetes_y = datasets.load_diabetes(return_X_y=True)\n",
    "diabetes_X = diabetes_X[:, 2]"
   ]
  },
  {
   "cell_type": "markdown",
   "metadata": {
    "id": "ynGlCxqV4R5n"
   },
   "source": [
    "Split the data into training and testing sets."
   ]
  },
  {
   "cell_type": "code",
   "execution_count": 485,
   "metadata": {
    "id": "VeN0-ObT4Nu7"
   },
   "outputs": [],
   "source": [
    "X_train, X_test, y_train, y_test = my_train_test_split(diabetes_X, diabetes_y, test_size=0.2)"
   ]
  },
  {
   "cell_type": "markdown",
   "metadata": {
    "id": "E0diHAiL4qww"
   },
   "source": [
    "Create the model using sklearn. Then train it using the training set."
   ]
  },
  {
   "cell_type": "code",
   "execution_count": 486,
   "metadata": {
    "id": "_76nVOTH4lLI"
   },
   "outputs": [
    {
     "data": {
      "text/html": [
       "<style>#sk-container-id-7 {color: black;background-color: white;}#sk-container-id-7 pre{padding: 0;}#sk-container-id-7 div.sk-toggleable {background-color: white;}#sk-container-id-7 label.sk-toggleable__label {cursor: pointer;display: block;width: 100%;margin-bottom: 0;padding: 0.3em;box-sizing: border-box;text-align: center;}#sk-container-id-7 label.sk-toggleable__label-arrow:before {content: \"▸\";float: left;margin-right: 0.25em;color: #696969;}#sk-container-id-7 label.sk-toggleable__label-arrow:hover:before {color: black;}#sk-container-id-7 div.sk-estimator:hover label.sk-toggleable__label-arrow:before {color: black;}#sk-container-id-7 div.sk-toggleable__content {max-height: 0;max-width: 0;overflow: hidden;text-align: left;background-color: #f0f8ff;}#sk-container-id-7 div.sk-toggleable__content pre {margin: 0.2em;color: black;border-radius: 0.25em;background-color: #f0f8ff;}#sk-container-id-7 input.sk-toggleable__control:checked~div.sk-toggleable__content {max-height: 200px;max-width: 100%;overflow: auto;}#sk-container-id-7 input.sk-toggleable__control:checked~label.sk-toggleable__label-arrow:before {content: \"▾\";}#sk-container-id-7 div.sk-estimator input.sk-toggleable__control:checked~label.sk-toggleable__label {background-color: #d4ebff;}#sk-container-id-7 div.sk-label input.sk-toggleable__control:checked~label.sk-toggleable__label {background-color: #d4ebff;}#sk-container-id-7 input.sk-hidden--visually {border: 0;clip: rect(1px 1px 1px 1px);clip: rect(1px, 1px, 1px, 1px);height: 1px;margin: -1px;overflow: hidden;padding: 0;position: absolute;width: 1px;}#sk-container-id-7 div.sk-estimator {font-family: monospace;background-color: #f0f8ff;border: 1px dotted black;border-radius: 0.25em;box-sizing: border-box;margin-bottom: 0.5em;}#sk-container-id-7 div.sk-estimator:hover {background-color: #d4ebff;}#sk-container-id-7 div.sk-parallel-item::after {content: \"\";width: 100%;border-bottom: 1px solid gray;flex-grow: 1;}#sk-container-id-7 div.sk-label:hover label.sk-toggleable__label {background-color: #d4ebff;}#sk-container-id-7 div.sk-serial::before {content: \"\";position: absolute;border-left: 1px solid gray;box-sizing: border-box;top: 0;bottom: 0;left: 50%;z-index: 0;}#sk-container-id-7 div.sk-serial {display: flex;flex-direction: column;align-items: center;background-color: white;padding-right: 0.2em;padding-left: 0.2em;position: relative;}#sk-container-id-7 div.sk-item {position: relative;z-index: 1;}#sk-container-id-7 div.sk-parallel {display: flex;align-items: stretch;justify-content: center;background-color: white;position: relative;}#sk-container-id-7 div.sk-item::before, #sk-container-id-7 div.sk-parallel-item::before {content: \"\";position: absolute;border-left: 1px solid gray;box-sizing: border-box;top: 0;bottom: 0;left: 50%;z-index: -1;}#sk-container-id-7 div.sk-parallel-item {display: flex;flex-direction: column;z-index: 1;position: relative;background-color: white;}#sk-container-id-7 div.sk-parallel-item:first-child::after {align-self: flex-end;width: 50%;}#sk-container-id-7 div.sk-parallel-item:last-child::after {align-self: flex-start;width: 50%;}#sk-container-id-7 div.sk-parallel-item:only-child::after {width: 0;}#sk-container-id-7 div.sk-dashed-wrapped {border: 1px dashed gray;margin: 0 0.4em 0.5em 0.4em;box-sizing: border-box;padding-bottom: 0.4em;background-color: white;}#sk-container-id-7 div.sk-label label {font-family: monospace;font-weight: bold;display: inline-block;line-height: 1.2em;}#sk-container-id-7 div.sk-label-container {text-align: center;}#sk-container-id-7 div.sk-container {/* jupyter's `normalize.less` sets `[hidden] { display: none; }` but bootstrap.min.css set `[hidden] { display: none !important; }` so we also need the `!important` here to be able to override the default hidden behavior on the sphinx rendered scikit-learn.org. See: https://github.com/scikit-learn/scikit-learn/issues/21755 */display: inline-block !important;position: relative;}#sk-container-id-7 div.sk-text-repr-fallback {display: none;}</style><div id=\"sk-container-id-7\" class=\"sk-top-container\"><div class=\"sk-text-repr-fallback\"><pre>LinearRegression()</pre><b>In a Jupyter environment, please rerun this cell to show the HTML representation or trust the notebook. <br />On GitHub, the HTML representation is unable to render, please try loading this page with nbviewer.org.</b></div><div class=\"sk-container\" hidden><div class=\"sk-item\"><div class=\"sk-estimator sk-toggleable\"><input class=\"sk-toggleable__control sk-hidden--visually\" id=\"sk-estimator-id-7\" type=\"checkbox\" checked><label for=\"sk-estimator-id-7\" class=\"sk-toggleable__label sk-toggleable__label-arrow\">LinearRegression</label><div class=\"sk-toggleable__content\"><pre>LinearRegression()</pre></div></div></div></div></div>"
      ],
      "text/plain": [
       "LinearRegression()"
      ]
     },
     "execution_count": 486,
     "metadata": {},
     "output_type": "execute_result"
    }
   ],
   "source": [
    "model = linear_model.LinearRegression()\n",
    "model.fit(X_train.reshape(-1, 1), y_train.reshape(-1, 1))"
   ]
  },
  {
   "cell_type": "markdown",
   "metadata": {
    "id": "jogQMqjc41q9"
   },
   "source": [
    "Make predictions for the test set."
   ]
  },
  {
   "cell_type": "code",
   "execution_count": 487,
   "metadata": {
    "id": "LIIMboiY5CiT"
   },
   "outputs": [],
   "source": [
    "predictions = model.predict(X_test.reshape(-1, 1))"
   ]
  },
  {
   "cell_type": "markdown",
   "metadata": {
    "id": "Mv3PUcdS5Dlo"
   },
   "source": [
    "Visualize your predictions and compare them to ground truth using the imported libraries."
   ]
  },
  {
   "cell_type": "code",
   "execution_count": 488,
   "metadata": {
    "id": "LsTXKZvM5KWp"
   },
   "outputs": [
    {
     "data": {
      "image/png": "[encoded data removed]",
      "text/plain": [
       "<Figure size 432x288 with 1 Axes>"
      ]
     },
     "metadata": {
      "needs_background": "light"
     },
     "output_type": "display_data"
    }
   ],
   "source": [
    "plt.scatter(X_test, y_test, color='blue', label='Ground Truth')\n",
    "plt.plot(X_test, predictions, color='red', linewidth=2, label='Predictions')\n",
    "plt.xlabel('Feature')\n",
    "plt.ylabel('Target')\n",
    "plt.title('Linear Regression')\n",
    "plt.legend()\n",
    "plt.show()"
   ]
  },
  {
   "cell_type": "markdown",
   "metadata": {
    "id": "d8Kg5i465SNb"
   },
   "source": [
    "# Logistic Regression (15 + 50)\n",
    "\n",
    "This type of statistical model (also known as logit model) is often used for classification and predictive analytics. Logistic regression estimates the probability of an event occurring, such as voted or didn't vote, based on a given dataset of independent variables.\n",
    "\n",
    "$S(h(x)) = \\frac{1}{1 + e^{-(\\theta_0 + \\theta_1 x_1 + \\theta_1 x_2 + \\cdots + \\theta_n x_n})} = \\frac{1}{1 + e^{-\\theta^T x}} \\tag{2}$\n",
    "\n",
    "The sigmoid function is of importance here and is defined as:\n",
    "\n",
    "$S(x) = \\frac{1}{1 + e^{-x}}$\n",
    "\n",
    "\n",
    "\n",
    "\n"
   ]
  },
  {
   "cell_type": "markdown",
   "metadata": {
    "id": "V_Rc3pUF6Pji"
   },
   "source": [
    "Calculate the sigmoid function and visualize it."
   ]
  },
  {
   "cell_type": "code",
   "execution_count": 489,
   "metadata": {
    "id": "v_bGZ_X85f4W"
   },
   "outputs": [],
   "source": [
    "def sigmoid(x):\n",
    "    return 1 / (1 + np.exp(-x))"
   ]
  },
  {
   "cell_type": "code",
   "execution_count": 490,
   "metadata": {
    "id": "Qrcgiip56e50"
   },
   "outputs": [
    {
     "data": {
      "image/png": "[encoded data removed]",
      "text/plain": [
       "<Figure size 432x288 with 1 Axes>"
      ]
     },
     "metadata": {
      "needs_background": "light"
     },
     "output_type": "display_data"
    }
   ],
   "source": [
    "x = np.linspace(-10, 10, 100)\n",
    "y = sigmoid(x)\n",
    "plt.plot(x, y)\n",
    "plt.xlabel('x')\n",
    "plt.ylabel('Sigmoid(x)')\n",
    "plt.title('Sigmoid')\n",
    "plt.grid(True)\n",
    "plt.show()"
   ]
  },
  {
   "cell_type": "markdown",
   "metadata": {
    "id": "IwL9DuGh7EHh"
   },
   "source": [
    "#Dataset\n",
    "Load the given dataset (same as naive bayes). Add a new column at the end of the dataset containing only 1s."
   ]
  },
  {
   "cell_type": "code",
   "execution_count": 491,
   "metadata": {
    "id": "D00oSB3Q6rD9"
   },
   "outputs": [
    {
     "name": "stdout",
     "output_type": "stream",
     "text": [
      "       0.10635 0.12803 0  1\n",
      "0     0.02403 -0.07484 1  1\n",
      "1      0.02237 0.01745 0  1\n",
      "2    -0.13465 -0.23444 0  1\n",
      "3     0.09612 -0.04661 0  1\n",
      "4     -0.00237 0.20299 1  1\n",
      "..                   ... ..\n",
      "994     0.0983 0.02622 1  1\n",
      "995   0.17402 -0.16422 0  1\n",
      "996   -0.15642 0.08101 0  1\n",
      "997  -0.02797 -0.00697 0  1\n",
      "998    0.0743 -0.09015 1  1\n",
      "\n",
      "[999 rows x 2 columns]\n"
     ]
    }
   ],
   "source": [
    "new_data = pd.read_csv('data.txt')\n",
    "new_data[1] = 1\n",
    "print(new_data)"
   ]
  },
  {
   "cell_type": "markdown",
   "metadata": {
    "id": "ejeLlynP7Xa_"
   },
   "source": [
    "### Predictions\n",
    "\n",
    "Simply implement the math above to make predictions. Since we are using numbers here, define the threshold of 0.5 for classification."
   ]
  },
  {
   "cell_type": "code",
   "execution_count": 492,
   "metadata": {
    "id": "IJrCamvm7WzK"
   },
   "outputs": [],
   "source": [
    "def predict(weights, x):\n",
    "    z = np.dot(weights, x)\n",
    "    probability = sigmoid(z)\n",
    "    return 1 if probability >= 0.5 else 0"
   ]
  },
  {
   "cell_type": "markdown",
   "metadata": {
    "id": "b-XmjNsO75bS"
   },
   "source": [
    "### Loss Function\n",
    "Cross-entropy loss, or log loss, measures the performance of a classification model whose output is a probability value between 0 and 1. Cross-entropy loss increases as the predicted probability diverges from the actual label. So predicting a probability of .012 when the actual observation label is 1 would be bad and result in a high loss value. A perfect model would have a log loss of 0.\n",
    "\n",
    "In binary classification, where the number of classes M\n",
    " equals 2, cross-entropy can be calculated as:\n",
    "\n",
    "$−(ylog(p)+(1−y)log(1−p))$\n"
   ]
  },
  {
   "cell_type": "code",
   "execution_count": 493,
   "metadata": {
    "id": "iM3SUJA-717R"
   },
   "outputs": [],
   "source": [
    "def cross_entropy(y_true, y_pred):\n",
    "    loss = - (y_true * np.log(y_pred) + (1 - y_true) * np.log(1 - y_pred))\n",
    "    return loss"
   ]
  },
  {
   "cell_type": "markdown",
   "metadata": {
    "id": "sgOxchuk89lL"
   },
   "source": [
    "### Gradient Descent\n",
    "\n",
    "Gradient Descent is an optimization algorithm for finding a local minimum of a differentiable function. Gradient descent in machine learning is simply used to find the values of a function's parameters (coefficients) that minimize a cost function as far as possible.\n",
    "\n",
    "$\\theta := \\theta - \\alpha \\nabla_\\theta H \\tag{6}$"
   ]
  },
  {
   "cell_type": "code",
   "execution_count": 494,
   "metadata": {
    "id": "75qw2i3680QK"
   },
   "outputs": [],
   "source": [
    "def gradient_descent(X, y, weights, num_of_epochs, learning_rate=0.005):\n",
    "    m = len(X)\n",
    "    cost_history = []\n",
    "    for epoch in range(num_of_epochs):\n",
    "        y_pred = np.dot(X, weights)\n",
    "        gradient = (1/m) * np.dot(X.T, (y_pred - y))\n",
    "        weights = weights - learning_rate * gradient\n",
    "        cost = (1/(2*m)) * np.sum((y_pred - y)**2)\n",
    "        cost_history.append(cost)\n",
    "    return weights, cost_history"
   ]
  },
  {
   "cell_type": "code",
   "execution_count": 495,
   "metadata": {
    "id": "vrNePqPL-SDM"
   },
   "outputs": [],
   "source": [
    "def LR(train_set, labels, test_set, num_of_epochs=100, learning_rate=0.005):\n",
    "    weights = np.zeros(train_set.shape[1])\n",
    "    weights, _ = gradient_descent(train_set, labels, weights, num_of_epochs, learning_rate)\n",
    "    predictions = []\n",
    "    for instance in test_set:\n",
    "        prediction = predict(weights, instance)\n",
    "        predictions.append(prediction)\n",
    "    return predictions"
   ]
  },
  {
   "cell_type": "markdown",
   "metadata": {
    "id": "O6P0Usic-Maj"
   },
   "source": [
    "### Test\n",
    "\n",
    "To test the model, import a suitable dataset from sklearn library to check the accuracy of your model. Then import LogisticRegression from sklearn and compare your model's result with it.\n",
    "\n"
   ]
  },
  {
   "cell_type": "code",
   "execution_count": 496,
   "metadata": {
    "id": "11f8e3rS_CbB"
   },
   "outputs": [],
   "source": [
    "def accuracy(ground_truth, predictions):\n",
    "    correct = sum(ground_truth == predictions)\n",
    "    total = len(ground_truth)\n",
    "    accuracy = correct / total\n",
    "    return accuracy"
   ]
  },
  {
   "cell_type": "code",
   "execution_count": 498,
   "metadata": {
    "id": "opX7Phbj_JN-"
   },
   "outputs": [
    {
     "name": "stdout",
     "output_type": "stream",
     "text": [
      "0.49\n",
      "0.47\n"
     ]
    }
   ],
   "source": [
    "from sklearn.linear_model import LogisticRegression\n",
    "\n",
    "X_train, X_test, y_train, y_test = my_train_test_split(data, labels, test_size=0.2)\n",
    "my_lr_predictions = LR(X_train, y_train, X_test)\n",
    "lr_model = LogisticRegression()\n",
    "lr_model.fit(X_train, y_train)\n",
    "sklearn_predictions = lr_model.predict(X_test)\n",
    "model_accuracy = accuracy(y_test, sklearn_predictions)\n",
    "lr_accuracy = accuracy(y_test, my_lr_predictions)\n",
    "print(model_accuracy)\n",
    "print(lr_accuracy)"
   ]
  },
  {
   "cell_type": "markdown",
   "metadata": {
    "id": "GGu4MOmU_QVq"
   },
   "source": [
    "### Visualization\n",
    "\n",
    "During your model's training, save the accuracy and loss of each epoch, and then plot them using the imported libraries. Explain the pattern. If the result is not satisfactory, change the learning rate, num of epochs, initial weights, etc and observe their effects on the result."
   ]
  },
  {
   "cell_type": "code",
   "execution_count": 499,
   "metadata": {},
   "outputs": [],
   "source": [
    "def plot_metrics(accuracies, losses):\n",
    "    epochs = range(1, len(accuracies) + 1)\n",
    "    plt.figure(figsize=(10, 4))\n",
    "    plt.subplot(1, 2, 1)\n",
    "    plt.plot(epochs, accuracies)\n",
    "    plt.xlabel('Epoch')\n",
    "    plt.ylabel('Accuracy')\n",
    "    plt.title('Accuracy per Epoch')\n",
    "    plt.subplot(1, 2, 2)\n",
    "    plt.plot(epochs, losses)\n",
    "    plt.xlabel('Epoch')\n",
    "    plt.ylabel('Loss')\n",
    "    plt.title('Loss per Epoch')\n",
    "    plt.tight_layout()\n",
    "    plt.show()"
   ]
  },
  {
   "cell_type": "code",
   "execution_count": 500,
   "metadata": {
    "id": "EdlupQWb_3OI"
   },
   "outputs": [
    {
     "name": "stdout",
     "output_type": "stream",
     "text": [
      "Epoch 1: Accuracy = 0.48, Loss = 0.24\n",
      "Epoch 2: Accuracy = 0.52, Loss = 0.23999994410153613\n",
      "Epoch 3: Accuracy = 0.48, Loss = 0.23999988820910292\n",
      "Epoch 4: Accuracy = 0.52, Loss = 0.23999983232269975\n",
      "Epoch 5: Accuracy = 0.48, Loss = 0.23999977644232598\n",
      "Epoch 6: Accuracy = 0.48, Loss = 0.23999972056798094\n",
      "Epoch 7: Accuracy = 0.52, Loss = 0.239999664699664\n",
      "Epoch 8: Accuracy = 0.48, Loss = 0.23999960883737445\n",
      "Epoch 9: Accuracy = 0.48, Loss = 0.23999955298111167\n",
      "Epoch 10: Accuracy = 0.52, Loss = 0.23999949713087507\n",
      "Epoch 11: Accuracy = 0.48, Loss = 0.23999944128666392\n",
      "Epoch 12: Accuracy = 0.48, Loss = 0.2399993854484776\n",
      "Epoch 13: Accuracy = 0.48, Loss = 0.2399993296163155\n",
      "Epoch 14: Accuracy = 0.52, Loss = 0.23999927379017685\n",
      "Epoch 15: Accuracy = 0.48, Loss = 0.23999921797006118\n",
      "Epoch 16: Accuracy = 0.48, Loss = 0.23999916215596767\n",
      "Epoch 17: Accuracy = 0.48, Loss = 0.23999910634789576\n",
      "Epoch 18: Accuracy = 0.52, Loss = 0.23999905054584478\n",
      "Epoch 19: Accuracy = 0.52, Loss = 0.23999899474981404\n",
      "Epoch 20: Accuracy = 0.48, Loss = 0.239998938959803\n",
      "Epoch 21: Accuracy = 0.48, Loss = 0.2399988831758109\n",
      "Epoch 22: Accuracy = 0.48, Loss = 0.23999882739783715\n",
      "Epoch 23: Accuracy = 0.48, Loss = 0.2399987716258811\n",
      "Epoch 24: Accuracy = 0.48, Loss = 0.23999871585994206\n",
      "Epoch 25: Accuracy = 0.52, Loss = 0.2399986601000194\n",
      "Epoch 26: Accuracy = 0.52, Loss = 0.2399986043461125\n",
      "Epoch 27: Accuracy = 0.48, Loss = 0.23999854859822062\n",
      "Epoch 28: Accuracy = 0.52, Loss = 0.23999849285634325\n",
      "Epoch 29: Accuracy = 0.52, Loss = 0.23999843712047964\n",
      "Epoch 30: Accuracy = 0.52, Loss = 0.23999838139062918\n",
      "Epoch 31: Accuracy = 0.48, Loss = 0.2399983256667912\n",
      "Epoch 32: Accuracy = 0.48, Loss = 0.2399982699489651\n",
      "Epoch 33: Accuracy = 0.52, Loss = 0.23999821423715012\n",
      "Epoch 34: Accuracy = 0.48, Loss = 0.2399981585313457\n",
      "Epoch 35: Accuracy = 0.48, Loss = 0.23999810283155124\n",
      "Epoch 36: Accuracy = 0.48, Loss = 0.23999804713776599\n",
      "Epoch 37: Accuracy = 0.52, Loss = 0.23999799144998932\n",
      "Epoch 38: Accuracy = 0.48, Loss = 0.23999793576822065\n",
      "Epoch 39: Accuracy = 0.48, Loss = 0.23999788009245926\n",
      "Epoch 40: Accuracy = 0.48, Loss = 0.2399978244227045\n",
      "Epoch 41: Accuracy = 0.52, Loss = 0.2399977687589558\n",
      "Epoch 42: Accuracy = 0.48, Loss = 0.2399977131012124\n",
      "Epoch 43: Accuracy = 0.48, Loss = 0.23999765744947377\n",
      "Epoch 44: Accuracy = 0.48, Loss = 0.2399976018037391\n",
      "Epoch 45: Accuracy = 0.48, Loss = 0.23999754616400792\n",
      "Epoch 46: Accuracy = 0.48, Loss = 0.23999749053027952\n",
      "Epoch 47: Accuracy = 0.48, Loss = 0.23999743490255324\n",
      "Epoch 48: Accuracy = 0.48, Loss = 0.23999737928082837\n",
      "Epoch 49: Accuracy = 0.48, Loss = 0.23999732366510437\n",
      "Epoch 50: Accuracy = 0.52, Loss = 0.23999726805538057\n",
      "Epoch 51: Accuracy = 0.48, Loss = 0.23999721245165628\n",
      "Epoch 52: Accuracy = 0.52, Loss = 0.23999715685393086\n",
      "Epoch 53: Accuracy = 0.52, Loss = 0.2399971012622037\n",
      "Epoch 54: Accuracy = 0.48, Loss = 0.23999704567647406\n",
      "Epoch 55: Accuracy = 0.52, Loss = 0.2399969900967414\n",
      "Epoch 56: Accuracy = 0.48, Loss = 0.23999693452300505\n",
      "Epoch 57: Accuracy = 0.52, Loss = 0.23999687895526436\n",
      "Epoch 58: Accuracy = 0.48, Loss = 0.23999682339351863\n",
      "Epoch 59: Accuracy = 0.48, Loss = 0.23999676783776727\n",
      "Epoch 60: Accuracy = 0.52, Loss = 0.23999671228800964\n",
      "Epoch 61: Accuracy = 0.48, Loss = 0.23999665674424506\n",
      "Epoch 62: Accuracy = 0.48, Loss = 0.2399966012064729\n",
      "Epoch 63: Accuracy = 0.52, Loss = 0.23999654567469242\n",
      "Epoch 64: Accuracy = 0.48, Loss = 0.23999649014890317\n",
      "Epoch 65: Accuracy = 0.48, Loss = 0.23999643462910436\n",
      "Epoch 66: Accuracy = 0.52, Loss = 0.23999637911529537\n",
      "Epoch 67: Accuracy = 0.52, Loss = 0.23999632360747555\n",
      "Epoch 68: Accuracy = 0.52, Loss = 0.23999626810564426\n",
      "Epoch 69: Accuracy = 0.48, Loss = 0.2399962126098009\n",
      "Epoch 70: Accuracy = 0.48, Loss = 0.23999615711994474\n",
      "Epoch 71: Accuracy = 0.52, Loss = 0.2399961016360752\n",
      "Epoch 72: Accuracy = 0.52, Loss = 0.2399960461581916\n",
      "Epoch 73: Accuracy = 0.48, Loss = 0.2399959906862933\n",
      "Epoch 74: Accuracy = 0.52, Loss = 0.23999593522037965\n",
      "Epoch 75: Accuracy = 0.52, Loss = 0.23999587976045006\n",
      "Epoch 76: Accuracy = 0.48, Loss = 0.2399958243065038\n",
      "Epoch 77: Accuracy = 0.48, Loss = 0.23999576885854026\n",
      "Epoch 78: Accuracy = 0.48, Loss = 0.23999571341655881\n",
      "Epoch 79: Accuracy = 0.52, Loss = 0.23999565798055877\n",
      "Epoch 80: Accuracy = 0.52, Loss = 0.2399956025505395\n",
      "Epoch 81: Accuracy = 0.52, Loss = 0.23999554712650042\n",
      "Epoch 82: Accuracy = 0.52, Loss = 0.23999549170844084\n",
      "Epoch 83: Accuracy = 0.52, Loss = 0.23999543629636008\n",
      "Epoch 84: Accuracy = 0.52, Loss = 0.23999538089025754\n",
      "Epoch 85: Accuracy = 0.48, Loss = 0.23999532549013253\n",
      "Epoch 86: Accuracy = 0.52, Loss = 0.23999527009598445\n",
      "Epoch 87: Accuracy = 0.48, Loss = 0.23999521470781265\n",
      "Epoch 88: Accuracy = 0.48, Loss = 0.23999515932561646\n",
      "Epoch 89: Accuracy = 0.52, Loss = 0.23999510394939527\n",
      "Epoch 90: Accuracy = 0.48, Loss = 0.2399950485791484\n",
      "Epoch 91: Accuracy = 0.52, Loss = 0.2399949932148752\n",
      "Epoch 92: Accuracy = 0.52, Loss = 0.23999493785657508\n",
      "Epoch 93: Accuracy = 0.52, Loss = 0.23999488250424733\n",
      "Epoch 94: Accuracy = 0.48, Loss = 0.2399948271578914\n",
      "Epoch 95: Accuracy = 0.48, Loss = 0.23999477181750653\n",
      "Epoch 96: Accuracy = 0.48, Loss = 0.23999471648309215\n",
      "Epoch 97: Accuracy = 0.48, Loss = 0.2399946611546476\n",
      "Epoch 98: Accuracy = 0.52, Loss = 0.23999460583217222\n",
      "Epoch 99: Accuracy = 0.48, Loss = 0.23999455051566534\n",
      "Epoch 100: Accuracy = 0.52, Loss = 0.23999449520512642\n"
     ]
    },
    {
     "data": {
      "image/png": "[encoded data removed]",
      "text/plain": [
       "<Figure size 720x288 with 2 Axes>"
      ]
     },
     "metadata": {
      "needs_background": "light"
     },
     "output_type": "display_data"
    }
   ],
   "source": [
    "X_train, X_test, y_train, y_test = my_train_test_split(data, labels, test_size=0.2)\n",
    "weights = np.zeros(X_train.shape[1])\n",
    "learning_rate = 0.005\n",
    "num_of_epochs = 100\n",
    "\n",
    "accuracies = []\n",
    "losses = []\n",
    "for epoch in range(num_of_epochs):\n",
    "    weights, loss = gradient_descent(X_train, y_train, weights, 1, learning_rate)\n",
    "    predictions = []\n",
    "    prediction = predict(weights, X_test[epoch])\n",
    "    predictions.append(prediction)\n",
    "    accuracy_val = accuracy(y_test, predictions)\n",
    "    accuracies.append(accuracy_val)\n",
    "    losses.append(loss[0]) \n",
    "\n",
    "    print(f\"Epoch {epoch + 1}: Accuracy = {accuracy_val}, Loss = {loss[0]}\")\n",
    "\n",
    "plot_metrics(accuracies, losses)\n"
   ]
  }
 ],
 "metadata": {
  "colab": {
   "provenance": []
  },
  "kernelspec": {
   "display_name": "Python 3 (ipykernel)",
   "language": "python",
   "name": "python3"
  },
  "language_info": {
   "codemirror_mode": {
    "name": "ipython",
    "version": 3
   },
   "file_extension": ".py",
   "mimetype": "text/x-python",
   "name": "python",
   "nbconvert_exporter": "python",
   "pygments_lexer": "ipython3",
   "version": "3.10.6"
  }
 },
 "nbformat": 4,
 "nbformat_minor": 4
}
